{
  "metadata": {
    "kernelspec": {
      "display_name": "Python 3",
      "name": "python3"
    },
    "language_info": {
      "name": "python",
      "version": "3.10.14",
      "mimetype": "text/x-python",
      "codemirror_mode": {
        "name": "ipython",
        "version": 3
      },
      "pygments_lexer": "ipython3",
      "nbconvert_exporter": "python",
      "file_extension": ".py"
    },
    "kaggle": {
      "accelerator": "none",
      "dataSources": [
        {
          "sourceId": 84175,
          "databundleVersionId": 9816926,
          "sourceType": "competition"
        },
        {
          "sourceId": 9995342,
          "sourceType": "datasetVersion",
          "datasetId": 6151944
        },
        {
          "sourceId": 9995371,
          "sourceType": "datasetVersion",
          "datasetId": 6151964
        }
      ],
      "dockerImageVersionId": 30786,
      "isInternetEnabled": true,
      "language": "python",
      "sourceType": "notebook",
      "isGpuEnabled": false
    },
    "colab": {
      "provenance": [],
      "name": "bdb_preparing_aggregated_dataset",
      "machine_shape": "hm"
    }
  },
  "nbformat_minor": 0,
  "nbformat": 4,
  "cells": [
    {
      "cell_type": "markdown",
      "source": [
        "# Creating Final Aggregated Dataset\n",
        "## Process used for weeks 1 through 9\n",
        "#### This is the snippet for Week 9"
      ],
      "metadata": {
        "id": "AyxcSWX48uyP"
      }
    },
    {
      "cell_type": "code",
      "source": [
        "!pip install google-cloud-bigquery google-cloud-storage"
      ],
      "metadata": {
        "colab": {
          "base_uri": "https://localhost:8080/"
        },
        "collapsed": true,
        "id": "aUHFkNpImngc",
        "outputId": "26d4676b-7bf8-424a-895a-d0b37970bd22"
      },
      "execution_count": 1,
      "outputs": [
        {
          "output_type": "stream",
          "name": "stdout",
          "text": [
            "Requirement already satisfied: google-cloud-bigquery in /usr/local/lib/python3.10/dist-packages (3.25.0)\n",
            "Requirement already satisfied: google-cloud-storage in /usr/local/lib/python3.10/dist-packages (2.19.0)\n",
            "Requirement already satisfied: google-api-core!=2.0.*,!=2.1.*,!=2.10.*,!=2.2.*,!=2.3.*,!=2.4.*,!=2.5.*,!=2.6.*,!=2.7.*,!=2.8.*,!=2.9.*,<3.0.0dev,>=1.34.1 in /usr/local/lib/python3.10/dist-packages (from google-api-core[grpc]!=2.0.*,!=2.1.*,!=2.10.*,!=2.2.*,!=2.3.*,!=2.4.*,!=2.5.*,!=2.6.*,!=2.7.*,!=2.8.*,!=2.9.*,<3.0.0dev,>=1.34.1->google-cloud-bigquery) (2.19.2)\n",
            "Requirement already satisfied: google-auth<3.0.0dev,>=2.14.1 in /usr/local/lib/python3.10/dist-packages (from google-cloud-bigquery) (2.27.0)\n",
            "Requirement already satisfied: google-cloud-core<3.0.0dev,>=1.6.0 in /usr/local/lib/python3.10/dist-packages (from google-cloud-bigquery) (2.4.1)\n",
            "Requirement already satisfied: google-resumable-media<3.0dev,>=0.6.0 in /usr/local/lib/python3.10/dist-packages (from google-cloud-bigquery) (2.7.2)\n",
            "Requirement already satisfied: packaging>=20.0.0 in /usr/local/lib/python3.10/dist-packages (from google-cloud-bigquery) (24.2)\n",
            "Requirement already satisfied: python-dateutil<3.0dev,>=2.7.2 in /usr/local/lib/python3.10/dist-packages (from google-cloud-bigquery) (2.8.2)\n",
            "Requirement already satisfied: requests<3.0.0dev,>=2.21.0 in /usr/local/lib/python3.10/dist-packages (from google-cloud-bigquery) (2.32.3)\n",
            "Requirement already satisfied: google-crc32c<2.0dev,>=1.0 in /usr/local/lib/python3.10/dist-packages (from google-cloud-storage) (1.6.0)\n",
            "Requirement already satisfied: googleapis-common-protos<2.0.dev0,>=1.56.2 in /usr/local/lib/python3.10/dist-packages (from google-api-core!=2.0.*,!=2.1.*,!=2.10.*,!=2.2.*,!=2.3.*,!=2.4.*,!=2.5.*,!=2.6.*,!=2.7.*,!=2.8.*,!=2.9.*,<3.0.0dev,>=1.34.1->google-api-core[grpc]!=2.0.*,!=2.1.*,!=2.10.*,!=2.2.*,!=2.3.*,!=2.4.*,!=2.5.*,!=2.6.*,!=2.7.*,!=2.8.*,!=2.9.*,<3.0.0dev,>=1.34.1->google-cloud-bigquery) (1.66.0)\n",
            "Requirement already satisfied: protobuf!=3.20.0,!=3.20.1,!=4.21.0,!=4.21.1,!=4.21.2,!=4.21.3,!=4.21.4,!=4.21.5,<6.0.0.dev0,>=3.19.5 in /usr/local/lib/python3.10/dist-packages (from google-api-core!=2.0.*,!=2.1.*,!=2.10.*,!=2.2.*,!=2.3.*,!=2.4.*,!=2.5.*,!=2.6.*,!=2.7.*,!=2.8.*,!=2.9.*,<3.0.0dev,>=1.34.1->google-api-core[grpc]!=2.0.*,!=2.1.*,!=2.10.*,!=2.2.*,!=2.3.*,!=2.4.*,!=2.5.*,!=2.6.*,!=2.7.*,!=2.8.*,!=2.9.*,<3.0.0dev,>=1.34.1->google-cloud-bigquery) (4.25.5)\n",
            "Requirement already satisfied: proto-plus<2.0.0dev,>=1.22.3 in /usr/local/lib/python3.10/dist-packages (from google-api-core!=2.0.*,!=2.1.*,!=2.10.*,!=2.2.*,!=2.3.*,!=2.4.*,!=2.5.*,!=2.6.*,!=2.7.*,!=2.8.*,!=2.9.*,<3.0.0dev,>=1.34.1->google-api-core[grpc]!=2.0.*,!=2.1.*,!=2.10.*,!=2.2.*,!=2.3.*,!=2.4.*,!=2.5.*,!=2.6.*,!=2.7.*,!=2.8.*,!=2.9.*,<3.0.0dev,>=1.34.1->google-cloud-bigquery) (1.25.0)\n",
            "Requirement already satisfied: grpcio<2.0dev,>=1.33.2 in /usr/local/lib/python3.10/dist-packages (from google-api-core[grpc]!=2.0.*,!=2.1.*,!=2.10.*,!=2.2.*,!=2.3.*,!=2.4.*,!=2.5.*,!=2.6.*,!=2.7.*,!=2.8.*,!=2.9.*,<3.0.0dev,>=1.34.1->google-cloud-bigquery) (1.68.1)\n",
            "Requirement already satisfied: grpcio-status<2.0.dev0,>=1.33.2 in /usr/local/lib/python3.10/dist-packages (from google-api-core[grpc]!=2.0.*,!=2.1.*,!=2.10.*,!=2.2.*,!=2.3.*,!=2.4.*,!=2.5.*,!=2.6.*,!=2.7.*,!=2.8.*,!=2.9.*,<3.0.0dev,>=1.34.1->google-cloud-bigquery) (1.62.3)\n",
            "Requirement already satisfied: cachetools<6.0,>=2.0.0 in /usr/local/lib/python3.10/dist-packages (from google-auth<3.0.0dev,>=2.14.1->google-cloud-bigquery) (5.5.0)\n",
            "Requirement already satisfied: pyasn1-modules>=0.2.1 in /usr/local/lib/python3.10/dist-packages (from google-auth<3.0.0dev,>=2.14.1->google-cloud-bigquery) (0.4.1)\n",
            "Requirement already satisfied: rsa<5,>=3.1.4 in /usr/local/lib/python3.10/dist-packages (from google-auth<3.0.0dev,>=2.14.1->google-cloud-bigquery) (4.9)\n",
            "Requirement already satisfied: six>=1.5 in /usr/local/lib/python3.10/dist-packages (from python-dateutil<3.0dev,>=2.7.2->google-cloud-bigquery) (1.17.0)\n",
            "Requirement already satisfied: charset-normalizer<4,>=2 in /usr/local/lib/python3.10/dist-packages (from requests<3.0.0dev,>=2.21.0->google-cloud-bigquery) (3.4.0)\n",
            "Requirement already satisfied: idna<4,>=2.5 in /usr/local/lib/python3.10/dist-packages (from requests<3.0.0dev,>=2.21.0->google-cloud-bigquery) (3.10)\n",
            "Requirement already satisfied: urllib3<3,>=1.21.1 in /usr/local/lib/python3.10/dist-packages (from requests<3.0.0dev,>=2.21.0->google-cloud-bigquery) (2.2.3)\n",
            "Requirement already satisfied: certifi>=2017.4.17 in /usr/local/lib/python3.10/dist-packages (from requests<3.0.0dev,>=2.21.0->google-cloud-bigquery) (2024.12.14)\n",
            "Requirement already satisfied: pyasn1<0.7.0,>=0.4.6 in /usr/local/lib/python3.10/dist-packages (from pyasn1-modules>=0.2.1->google-auth<3.0.0dev,>=2.14.1->google-cloud-bigquery) (0.6.1)\n"
          ]
        }
      ]
    },
    {
      "cell_type": "code",
      "source": [
        "from google.colab import auth\n",
        "auth.authenticate_user()"
      ],
      "metadata": {
        "id": "68HZHayNmoSn"
      },
      "execution_count": 2,
      "outputs": []
    },
    {
      "cell_type": "code",
      "source": [
        "from google.cloud import bigquery\n",
        "import pandas as pd\n",
        "\n",
        "# Initialize BigQuery client\n",
        "project_id = \"bigdatabowl2025\"\n",
        "client = bigquery.Client(project=project_id, location='us-central1')"
      ],
      "metadata": {
        "id": "lvRl5_5cmoP2"
      },
      "execution_count": 3,
      "outputs": []
    },
    {
      "cell_type": "code",
      "source": [
        "# List of table names and corresponding DataFrame names\n",
        "tables = {\n",
        "    \"players\": \"players_df\",\n",
        "    \"games\" : \"games_df\",\n",
        "    \"player_play\" : \"player_play_df\",\n",
        "    \"plays\" : \"plays_df\",\n",
        "    # \"tracking_week_1\": \"tracking_week_1\",\n",
        "    # \"tracking_week_2\": \"tracking_week_2\",\n",
        "    # \"tracking_week_3\": \"tracking_week_3\",\n",
        "    # \"tracking_week_4\": \"tracking_week_4\",\n",
        "    # \"tracking_week_5\": \"tracking_week_5\",\n",
        "    # \"tracking_week_6\": \"tracking_week_6\",\n",
        "    # \"tracking_week_7\": \"tracking_week_7\",\n",
        "    # \"tracking_week_8\": \"tracking_week_8\",\n",
        "    \"tracking_week_9\": \"tracking_week_9\"\n",
        "}\n",
        "\n",
        "# Dataset details\n",
        "dataset_id = \"bdb_tables\"\n",
        "\n",
        "# Query each table and assign to DataFrame variables\n",
        "for table_name, df_name in tables.items():\n",
        "    query = f\"SELECT * FROM `{client.project}.{dataset_id}.{table_name}`\"\n",
        "    print(f\"Querying table: {table_name}\")\n",
        "    globals()[df_name] = client.query(query).to_dataframe()\n",
        "\n",
        "    print(f\"Loaded {len(globals()[df_name])} rows into DataFrame: {df_name}\")"
      ],
      "metadata": {
        "colab": {
          "base_uri": "https://localhost:8080/"
        },
        "id": "3ndhZ5lZmoM9",
        "outputId": "c1253f6f-fa82-42b0-bab1-bf7e1ad3fb97"
      },
      "execution_count": 5,
      "outputs": [
        {
          "output_type": "stream",
          "name": "stdout",
          "text": [
            "Querying table: players\n",
            "Loaded 1697 rows into DataFrame: players_df\n",
            "Querying table: games\n",
            "Loaded 136 rows into DataFrame: games_df\n",
            "Querying table: player_play\n",
            "Loaded 354727 rows into DataFrame: player_play_df\n",
            "Querying table: plays\n",
            "Loaded 16124 rows into DataFrame: plays_df\n",
            "Querying table: tracking_week_9\n",
            "Loaded 5104643 rows into DataFrame: tracking_week_9\n"
          ]
        }
      ]
    },
    {
      "cell_type": "markdown",
      "source": [
        "### Importing Data"
      ],
      "metadata": {
        "_uuid": "e02628bf-ccc6-4624-b5fc-ab2c537884ea",
        "_cell_guid": "b866e7ce-bfb9-4db6-894b-fab7e4f87108",
        "trusted": true,
        "collapsed": false,
        "jupyter": {
          "outputs_hidden": false
        },
        "id": "sjKPdHjfmjFY"
      }
    },
    {
      "cell_type": "code",
      "source": [
        "import numpy as np\n",
        "import os\n",
        "\n",
        "pd.set_option('display.max_columns', None)\n"
      ],
      "metadata": {
        "_uuid": "074a3b63-e324-4710-9aac-2bd362495408",
        "_cell_guid": "25021529-a864-4231-b36c-cb7c51c206a8",
        "trusted": true,
        "execution": {
          "iopub.status.busy": "2024-11-24T00:33:35.812230Z",
          "iopub.execute_input": "2024-11-24T00:33:35.813014Z",
          "iopub.status.idle": "2024-11-24T00:34:04.310242Z",
          "shell.execute_reply.started": "2024-11-24T00:33:35.812933Z",
          "shell.execute_reply": "2024-11-24T00:34:04.309001Z"
        },
        "jupyter": {
          "outputs_hidden": false
        },
        "id": "3WBaggTZmjFY"
      },
      "outputs": [],
      "execution_count": 6
    },
    {
      "cell_type": "code",
      "source": [
        "tracking = tracking_week_9"
      ],
      "metadata": {
        "id": "h0Ef8TM4RhLc"
      },
      "execution_count": 7,
      "outputs": []
    },
    {
      "cell_type": "code",
      "source": [
        "# Select only necessary columns from each DataFrame for this analysis\n",
        "plays_df = plays_df[['gameId', 'playId', 'rushLocationType', 'quarter', 'down', 'yardsToGo', 'gameClock',\n",
        "       'possessionTeam', 'preSnapHomeScore', 'preSnapVisitorScore', 'absoluteYardlineNumber',\n",
        "       'preSnapHomeTeamWinProbability', 'preSnapVisitorTeamWinProbability',\n",
        "       'expectedPoints', 'offenseFormation', 'receiverAlignment', 'pff_passCoverage', 'pff_manZone']]\n",
        "players_df = players_df[['nflId', 'position']]\n",
        "games_df = games_df[['gameId', 'gameDate', 'gameTimeEastern', 'homeTeamAbbr']]\n",
        "player_play_df = player_play_df[['gameId', 'playId', 'nflId', 'inMotionAtBallSnap', 'shiftSinceLineset', 'motionSinceLineset']]\n",
        "tracking_df = tracking[['gameId', 'playId', 'nflId', 'displayName', 'x', 'y', 'event']]"
      ],
      "metadata": {
        "_uuid": "06486c59-6d12-429c-a049-05a67148f36a",
        "_cell_guid": "f35f2036-b4a6-4d89-912e-6e9e34a3756e",
        "trusted": true,
        "execution": {
          "iopub.status.busy": "2024-11-24T00:34:04.352906Z",
          "iopub.execute_input": "2024-11-24T00:34:04.353385Z",
          "iopub.status.idle": "2024-11-24T00:34:04.536671Z",
          "shell.execute_reply.started": "2024-11-24T00:34:04.353332Z",
          "shell.execute_reply": "2024-11-24T00:34:04.535411Z"
        },
        "jupyter": {
          "outputs_hidden": false
        },
        "id": "R7a-3ti9mjFZ"
      },
      "outputs": [],
      "execution_count": 8
    },
    {
      "cell_type": "code",
      "source": [
        "# Check for and handle invalid values in nflId\n",
        "tracking_df['nflId'] = pd.to_numeric(tracking_df['nflId'], errors='coerce')  # Convert non-numeric to NaN\n",
        "tracking_df['nflId'] = tracking_df['nflId'].fillna(-1).astype('int32')       # Fill NaN with -1 and convert to int32\n",
        "\n",
        "# Adjust data types for memory efficiency using .loc[] to avoid SettingWithCopyWarning\n",
        "games_df.loc[:, 'gameId'] = games_df['gameId'].astype('int32')\n",
        "plays_df.loc[:, 'gameId'] = plays_df['gameId'].astype('int32')\n",
        "plays_df.loc[:, 'playId'] = plays_df['playId'].astype('int32')\n",
        "player_play_df.loc[:, 'gameId'] = player_play_df['gameId'].astype('int32')\n",
        "player_play_df.loc[:, 'playId'] = player_play_df['playId'].astype('int32')\n",
        "tracking_df.loc[:, 'gameId'] = tracking_df['gameId'].astype('int32')\n",
        "tracking_df.loc[:, 'playId'] = tracking_df['playId'].astype('int32')\n",
        "players_df.loc[:, 'nflId'] = players_df['nflId'].astype('int32')\n",
        "player_play_df.loc[:, 'nflId'] = player_play_df['nflId'].astype('int32')\n"
      ],
      "metadata": {
        "_uuid": "2612722e-dd47-4bdd-abb7-0420ed0229b2",
        "_cell_guid": "4d61b47c-a304-4cde-8047-7db6478d4e97",
        "trusted": true,
        "execution": {
          "iopub.status.busy": "2024-11-24T00:34:04.539124Z",
          "iopub.execute_input": "2024-11-24T00:34:04.539492Z",
          "iopub.status.idle": "2024-11-24T00:34:04.726974Z",
          "shell.execute_reply.started": "2024-11-24T00:34:04.539456Z",
          "shell.execute_reply": "2024-11-24T00:34:04.725543Z"
        },
        "jupyter": {
          "outputs_hidden": false
        },
        "id": "amW6JJ5ZmjFZ",
        "colab": {
          "base_uri": "https://localhost:8080/"
        },
        "outputId": "5916fb9f-9fc4-4f2d-ff67-b44eae1c5120"
      },
      "outputs": [
        {
          "output_type": "stream",
          "name": "stderr",
          "text": [
            "<ipython-input-9-58ba083fa3be>:2: SettingWithCopyWarning: \n",
            "A value is trying to be set on a copy of a slice from a DataFrame.\n",
            "Try using .loc[row_indexer,col_indexer] = value instead\n",
            "\n",
            "See the caveats in the documentation: https://pandas.pydata.org/pandas-docs/stable/user_guide/indexing.html#returning-a-view-versus-a-copy\n",
            "  tracking_df['nflId'] = pd.to_numeric(tracking_df['nflId'], errors='coerce')  # Convert non-numeric to NaN\n",
            "<ipython-input-9-58ba083fa3be>:3: SettingWithCopyWarning: \n",
            "A value is trying to be set on a copy of a slice from a DataFrame.\n",
            "Try using .loc[row_indexer,col_indexer] = value instead\n",
            "\n",
            "See the caveats in the documentation: https://pandas.pydata.org/pandas-docs/stable/user_guide/indexing.html#returning-a-view-versus-a-copy\n",
            "  tracking_df['nflId'] = tracking_df['nflId'].fillna(-1).astype('int32')       # Fill NaN with -1 and convert to int32\n"
          ]
        }
      ],
      "execution_count": 9
    },
    {
      "cell_type": "code",
      "source": [
        "# Join the DataFrames\n",
        "\n",
        "# Join plays and tracking on 'gameId' and 'playId'\n",
        "join_all = pd.merge(plays_df, tracking_df, how=\"inner\", on=[\"gameId\", \"playId\"])\n",
        "\n",
        "# Join the resulting DataFrame with players on 'nflId'\n",
        "join_all = join_all.merge(players_df, how=\"left\", on=\"nflId\")\n",
        "\n",
        "join_all = join_all.merge(player_play_df, how=\"left\", on=[\"gameId\", \"playId\", \"nflId\"])\n",
        "\n",
        "join_all = join_all.merge(games_df, how=\"left\", on='gameId')\n",
        "\n",
        "# Display information on the joined DataFrame\n",
        "print(\"Final joined DataFrame shape:\", join_all.shape)\n",
        "print(join_all.head())"
      ],
      "metadata": {
        "_uuid": "d58723a0-47a5-4c14-9b7e-7f20daed2033",
        "_cell_guid": "666dc125-ad1a-4621-8348-f8500ada0f69",
        "trusted": true,
        "execution": {
          "iopub.status.busy": "2024-11-24T00:34:04.728373Z",
          "iopub.execute_input": "2024-11-24T00:34:04.728718Z",
          "iopub.status.idle": "2024-11-24T00:34:21.764553Z",
          "shell.execute_reply.started": "2024-11-24T00:34:04.728684Z",
          "shell.execute_reply": "2024-11-24T00:34:21.763282Z"
        },
        "jupyter": {
          "outputs_hidden": false
        },
        "id": "g8YCcaTAmjFa",
        "colab": {
          "base_uri": "https://localhost:8080/"
        },
        "outputId": "ea3b40cd-530d-420b-b34e-7113bb424cdf"
      },
      "outputs": [
        {
          "output_type": "stream",
          "name": "stdout",
          "text": [
            "Final joined DataFrame shape: (5104643, 30)\n",
            "       gameId  playId rushLocationType  quarter  down  yardsToGo gameClock  \\\n",
            "0  2022110300    1182      INSIDE_LEFT        2     1         10     09:28   \n",
            "1  2022110300    1182      INSIDE_LEFT        2     1         10     09:28   \n",
            "2  2022110300    1182      INSIDE_LEFT        2     1         10     09:28   \n",
            "3  2022110300    1182      INSIDE_LEFT        2     1         10     09:28   \n",
            "4  2022110300    1182      INSIDE_LEFT        2     1         10     09:28   \n",
            "\n",
            "  possessionTeam  preSnapHomeScore  preSnapVisitorScore  \\\n",
            "0            PHI                 7                    7   \n",
            "1            PHI                 7                    7   \n",
            "2            PHI                 7                    7   \n",
            "3            PHI                 7                    7   \n",
            "4            PHI                 7                    7   \n",
            "\n",
            "   absoluteYardlineNumber  preSnapHomeTeamWinProbability  \\\n",
            "0                      44                       0.149478   \n",
            "1                      44                       0.149478   \n",
            "2                      44                       0.149478   \n",
            "3                      44                       0.149478   \n",
            "4                      44                       0.149478   \n",
            "\n",
            "   preSnapVisitorTeamWinProbability  expectedPoints offenseFormation  \\\n",
            "0                          0.850522        1.703288       SINGLEBACK   \n",
            "1                          0.850522        1.703288       SINGLEBACK   \n",
            "2                          0.850522        1.703288       SINGLEBACK   \n",
            "3                          0.850522        1.703288       SINGLEBACK   \n",
            "4                          0.850522        1.703288       SINGLEBACK   \n",
            "\n",
            "  receiverAlignment pff_passCoverage pff_manZone  nflId     displayName  \\\n",
            "0               2x2          Cover-1         Man  46669  Jonathan Owens   \n",
            "1               2x2          Cover-1         Man  46669  Jonathan Owens   \n",
            "2               2x2          Cover-1         Man  46669  Jonathan Owens   \n",
            "3               2x2          Cover-1         Man  46669  Jonathan Owens   \n",
            "4               2x2          Cover-1         Man  46669  Jonathan Owens   \n",
            "\n",
            "       x      y event position inMotionAtBallSnap shiftSinceLineset  \\\n",
            "0  55.80  28.17  None       SS                 NA                NA   \n",
            "1  56.11  28.34  None       SS                 NA                NA   \n",
            "2  56.10  27.82  None       SS                 NA                NA   \n",
            "3  56.06  27.26  None       SS                 NA                NA   \n",
            "4  56.07  27.25  None       SS                 NA                NA   \n",
            "\n",
            "  motionSinceLineset    gameDate gameTimeEastern homeTeamAbbr  \n",
            "0                 NA  2022-11-03        20:15:00          HOU  \n",
            "1                 NA  2022-11-03        20:15:00          HOU  \n",
            "2                 NA  2022-11-03        20:15:00          HOU  \n",
            "3                 NA  2022-11-03        20:15:00          HOU  \n",
            "4                 NA  2022-11-03        20:15:00          HOU  \n"
          ]
        }
      ],
      "execution_count": 10
    },
    {
      "cell_type": "code",
      "source": [
        "pred_df = join_all\n",
        "print(pred_df['playId'].nunique())\n",
        "print(pred_df['gameId'].nunique())\n",
        "print(len(pred_df))"
      ],
      "metadata": {
        "_uuid": "10f856d5-21ba-43ce-93b1-3fba82d434c2",
        "_cell_guid": "db91ac3a-1c5e-44ea-8643-18812f09b23b",
        "trusted": true,
        "execution": {
          "iopub.status.busy": "2024-11-24T00:34:21.765928Z",
          "iopub.execute_input": "2024-11-24T00:34:21.766223Z",
          "iopub.status.idle": "2024-11-24T00:34:22.224991Z",
          "shell.execute_reply.started": "2024-11-24T00:34:21.766192Z",
          "shell.execute_reply": "2024-11-24T00:34:22.223456Z"
        },
        "jupyter": {
          "outputs_hidden": false
        },
        "id": "BuHs3LZumjFa",
        "colab": {
          "base_uri": "https://localhost:8080/"
        },
        "outputId": "7c9435b7-90e6-4e66-e12d-7565815182d5"
      },
      "outputs": [
        {
          "output_type": "stream",
          "name": "stdout",
          "text": [
            "1276\n",
            "13\n",
            "5104643\n"
          ]
        }
      ],
      "execution_count": 11
    },
    {
      "cell_type": "code",
      "source": [
        "print(pred_df['event'].value_counts())"
      ],
      "metadata": {
        "id": "C4K1gjZxIozY",
        "outputId": "b0255523-e9e1-45da-c21b-33b455dcc7b1",
        "colab": {
          "base_uri": "https://localhost:8080/"
        }
      },
      "execution_count": 12,
      "outputs": [
        {
          "output_type": "stream",
          "name": "stdout",
          "text": [
            "event\n",
            "line_set                     31441\n",
            "ball_snap                    31395\n",
            "huddle_break_offense         25185\n",
            "first_contact                20608\n",
            "tackle                       19642\n",
            "pass_forward                 16583\n",
            "pass_arrived                 12535\n",
            "handoff                      11316\n",
            "pass_outcome_caught           9867\n",
            "man_in_motion                 9821\n",
            "play_action                   5819\n",
            "pass_outcome_incomplete       5520\n",
            "shift                         5474\n",
            "out_of_bounds                 3358\n",
            "autoevent_passinterrupted     2737\n",
            "run                           2277\n",
            "qb_sack                       1035\n",
            "touchdown                      782\n",
            "play_submit                    713\n",
            "dropped_pass                   644\n",
            "pass_outcome_touchdown         437\n",
            "pass_tipped                    345\n",
            "lateral                        322\n",
            "fumble                         299\n",
            "qb_slide                       299\n",
            "pass_outcome_interception      276\n",
            "fumble_offense_recovered       230\n",
            "qb_kneel                       230\n",
            "fumble_defense_recovered       138\n",
            "autoevent_passforward          138\n",
            "snap_direct                    138\n",
            "autoevent_ballsnap             115\n",
            "pass_shovel                     92\n",
            "touchback                       46\n",
            "qb_spike                        46\n",
            "qb_strip_sack                   23\n",
            "huddle_start_offense            23\n",
            "Name: count, dtype: int64\n"
          ]
        }
      ]
    },
    {
      "cell_type": "code",
      "source": [
        "# Fill 'position' with 'FBall' when 'displayName_x' is 'football'\n",
        "pred_df.loc[pred_df['displayName'] == 'football', 'position'] = 'FBall'\n",
        "\n",
        "# Filter pred_df for specific events and positions\n",
        "filtered_pred_df = pred_df[(pred_df['event'] == 'ball_snap')]\n",
        "filtered_pred_df = filtered_pred_df[filtered_pred_df['position'].isin(['TE', 'WR', 'FB', 'RB', 'QB', 'FBall'])]\n",
        "\n",
        "# Create new feature identifying if the home team has possession\n",
        "filtered_pred_df['homeTeamPossession'] = (filtered_pred_df['possessionTeam'] == filtered_pred_df['homeTeamAbbr']).astype(int)\n",
        "\n",
        "# Drop uneeded columns\n",
        "filtered_pred_df = filtered_pred_df.drop(columns=['displayName', 'homeTeamAbbr'])\n",
        "\n",
        "# Display the first few rows of the filtered DataFrame\n",
        "print(filtered_pred_df.head())"
      ],
      "metadata": {
        "_uuid": "ada5d8cd-27ce-437b-bf36-3f5970f9f2ac",
        "_cell_guid": "ddb71184-9fc8-4250-9120-a86be2d375a8",
        "trusted": true,
        "execution": {
          "iopub.status.busy": "2024-11-24T00:34:22.227350Z",
          "iopub.execute_input": "2024-11-24T00:34:22.227970Z",
          "iopub.status.idle": "2024-11-24T00:34:23.250159Z",
          "shell.execute_reply.started": "2024-11-24T00:34:22.227911Z",
          "shell.execute_reply": "2024-11-24T00:34:23.248314Z"
        },
        "jupyter": {
          "outputs_hidden": false
        },
        "id": "XAV8cgLCmjFa",
        "colab": {
          "base_uri": "https://localhost:8080/"
        },
        "outputId": "fada7234-8c19-4a39-e014-cf7ed2d0e4fa"
      },
      "outputs": [
        {
          "output_type": "stream",
          "name": "stdout",
          "text": [
            "          gameId  playId rushLocationType  quarter  down  yardsToGo gameClock  \\\n",
            "2172  2022110300    1182      INSIDE_LEFT        2     1         10     09:28   \n",
            "2298  2022110300    1182      INSIDE_LEFT        2     1         10     09:28   \n",
            "2466  2022110300    1182      INSIDE_LEFT        2     1         10     09:28   \n",
            "3652  2022110300    1182      INSIDE_LEFT        2     1         10     09:28   \n",
            "3682  2022110300    1182      INSIDE_LEFT        2     1         10     09:28   \n",
            "\n",
            "     possessionTeam  preSnapHomeScore  preSnapVisitorScore  \\\n",
            "2172            PHI                 7                    7   \n",
            "2298            PHI                 7                    7   \n",
            "2466            PHI                 7                    7   \n",
            "3652            PHI                 7                    7   \n",
            "3682            PHI                 7                    7   \n",
            "\n",
            "      absoluteYardlineNumber  preSnapHomeTeamWinProbability  \\\n",
            "2172                      44                       0.149478   \n",
            "2298                      44                       0.149478   \n",
            "2466                      44                       0.149478   \n",
            "3652                      44                       0.149478   \n",
            "3682                      44                       0.149478   \n",
            "\n",
            "      preSnapVisitorTeamWinProbability  expectedPoints offenseFormation  \\\n",
            "2172                          0.850522        1.703288       SINGLEBACK   \n",
            "2298                          0.850522        1.703288       SINGLEBACK   \n",
            "2466                          0.850522        1.703288       SINGLEBACK   \n",
            "3652                          0.850522        1.703288       SINGLEBACK   \n",
            "3682                          0.850522        1.703288       SINGLEBACK   \n",
            "\n",
            "     receiverAlignment pff_passCoverage pff_manZone  nflId      x      y  \\\n",
            "2172               2x2          Cover-1         Man  47836  36.76  29.85   \n",
            "2298               2x2          Cover-1         Man  53439  43.12  11.04   \n",
            "2466               2x2          Cover-1         Man  46118  41.43  34.24   \n",
            "3652               2x2          Cover-1         Man  47834  42.69  18.09   \n",
            "3682               2x2          Cover-1         Man  45102  43.21  36.71   \n",
            "\n",
            "          event position inMotionAtBallSnap shiftSinceLineset  \\\n",
            "2172  ball_snap       RB              FALSE             FALSE   \n",
            "2298  ball_snap       WR                 NA             FALSE   \n",
            "2466  ball_snap       TE                 NA              TRUE   \n",
            "3652  ball_snap       WR                 NA             FALSE   \n",
            "3682  ball_snap       WR                 NA             FALSE   \n",
            "\n",
            "     motionSinceLineset    gameDate gameTimeEastern  homeTeamPossession  \n",
            "2172              FALSE  2022-11-03        20:15:00                   0  \n",
            "2298                 NA  2022-11-03        20:15:00                   0  \n",
            "2466                 NA  2022-11-03        20:15:00                   0  \n",
            "3652                 NA  2022-11-03        20:15:00                   0  \n",
            "3682                 NA  2022-11-03        20:15:00                   0  \n"
          ]
        }
      ],
      "execution_count": 13
    },
    {
      "cell_type": "code",
      "source": [
        "print(filtered_pred_df[['inMotionAtBallSnap', 'shiftSinceLineset', 'motionSinceLineset']].value_counts())"
      ],
      "metadata": {
        "id": "a7G9J5v3K-ma",
        "outputId": "e5855460-3c83-4857-a445-40f03f63921d",
        "colab": {
          "base_uri": "https://localhost:8080/"
        }
      },
      "execution_count": 14,
      "outputs": [
        {
          "output_type": "stream",
          "name": "stdout",
          "text": [
            "inMotionAtBallSnap  shiftSinceLineset  motionSinceLineset\n",
            "FALSE               FALSE              FALSE                 3473\n",
            "NA                  FALSE              NA                    3020\n",
            "FALSE               FALSE              NA                     736\n",
            "NA                  TRUE               NA                     239\n",
            "TRUE                FALSE              NA                     194\n",
            "FALSE               FALSE              TRUE                   193\n",
            "TRUE                FALSE              TRUE                   191\n",
            "FALSE               TRUE               TRUE                    37\n",
            "                                       NA                      31\n",
            "TRUE                TRUE               NA                      25\n",
            "NA                  NA                 NA                      11\n",
            "Name: count, dtype: int64\n"
          ]
        }
      ]
    },
    {
      "cell_type": "code",
      "source": [
        "# Replace 'FALSE', 'TRUE', and 'NA' strings with appropriate values\n",
        "filtered_pred_df['inMotionAtBallSnap'] = filtered_pred_df['inMotionAtBallSnap'].replace({'FALSE': False, 'TRUE': True, 'NA': 0}).fillna(0).astype(int)\n",
        "filtered_pred_df['shiftSinceLineset'] = filtered_pred_df['shiftSinceLineset'].replace({'FALSE': False, 'TRUE': True, 'NA': 0}).fillna(0).astype(int)\n",
        "filtered_pred_df['motionSinceLineset'] = filtered_pred_df['motionSinceLineset'].replace({'FALSE': False, 'TRUE': True, 'NA': 0}).fillna(0).astype(int)\n",
        "\n",
        "# Recreate encoded columns for each position\n",
        "positions = ['RB', 'WR', 'FB', 'TE', 'QB']\n",
        "for pos in positions:\n",
        "    filtered_pred_df[f'{pos}_snap_motion'] = np.where(filtered_pred_df['position'] == pos, filtered_pred_df['inMotionAtBallSnap'], 0)\n",
        "    filtered_pred_df[f'{pos}_motion'] = np.where(filtered_pred_df['position'] == pos, filtered_pred_df['motionSinceLineset'], 0)\n",
        "    filtered_pred_df[f'{pos}_shift'] = np.where(filtered_pred_df['position'] == pos, filtered_pred_df['shiftSinceLineset'], 0)\n",
        "\n",
        "# Check the resulting DataFrame\n",
        "print(filtered_pred_df.head())\n"
      ],
      "metadata": {
        "id": "07iNfMCKLmb3",
        "outputId": "8ef6f0dd-7a85-473c-aba5-3ee3092d3648",
        "colab": {
          "base_uri": "https://localhost:8080/"
        }
      },
      "execution_count": 15,
      "outputs": [
        {
          "output_type": "stream",
          "name": "stdout",
          "text": [
            "          gameId  playId rushLocationType  quarter  down  yardsToGo gameClock  \\\n",
            "2172  2022110300    1182      INSIDE_LEFT        2     1         10     09:28   \n",
            "2298  2022110300    1182      INSIDE_LEFT        2     1         10     09:28   \n",
            "2466  2022110300    1182      INSIDE_LEFT        2     1         10     09:28   \n",
            "3652  2022110300    1182      INSIDE_LEFT        2     1         10     09:28   \n",
            "3682  2022110300    1182      INSIDE_LEFT        2     1         10     09:28   \n",
            "\n",
            "     possessionTeam  preSnapHomeScore  preSnapVisitorScore  \\\n",
            "2172            PHI                 7                    7   \n",
            "2298            PHI                 7                    7   \n",
            "2466            PHI                 7                    7   \n",
            "3652            PHI                 7                    7   \n",
            "3682            PHI                 7                    7   \n",
            "\n",
            "      absoluteYardlineNumber  preSnapHomeTeamWinProbability  \\\n",
            "2172                      44                       0.149478   \n",
            "2298                      44                       0.149478   \n",
            "2466                      44                       0.149478   \n",
            "3652                      44                       0.149478   \n",
            "3682                      44                       0.149478   \n",
            "\n",
            "      preSnapVisitorTeamWinProbability  expectedPoints offenseFormation  \\\n",
            "2172                          0.850522        1.703288       SINGLEBACK   \n",
            "2298                          0.850522        1.703288       SINGLEBACK   \n",
            "2466                          0.850522        1.703288       SINGLEBACK   \n",
            "3652                          0.850522        1.703288       SINGLEBACK   \n",
            "3682                          0.850522        1.703288       SINGLEBACK   \n",
            "\n",
            "     receiverAlignment pff_passCoverage pff_manZone  nflId      x      y  \\\n",
            "2172               2x2          Cover-1         Man  47836  36.76  29.85   \n",
            "2298               2x2          Cover-1         Man  53439  43.12  11.04   \n",
            "2466               2x2          Cover-1         Man  46118  41.43  34.24   \n",
            "3652               2x2          Cover-1         Man  47834  42.69  18.09   \n",
            "3682               2x2          Cover-1         Man  45102  43.21  36.71   \n",
            "\n",
            "          event position  inMotionAtBallSnap  shiftSinceLineset  \\\n",
            "2172  ball_snap       RB                   0                  0   \n",
            "2298  ball_snap       WR                   0                  0   \n",
            "2466  ball_snap       TE                   0                  1   \n",
            "3652  ball_snap       WR                   0                  0   \n",
            "3682  ball_snap       WR                   0                  0   \n",
            "\n",
            "      motionSinceLineset    gameDate gameTimeEastern  homeTeamPossession  \\\n",
            "2172                   0  2022-11-03        20:15:00                   0   \n",
            "2298                   0  2022-11-03        20:15:00                   0   \n",
            "2466                   0  2022-11-03        20:15:00                   0   \n",
            "3652                   0  2022-11-03        20:15:00                   0   \n",
            "3682                   0  2022-11-03        20:15:00                   0   \n",
            "\n",
            "      RB_snap_motion  RB_motion  RB_shift  WR_snap_motion  WR_motion  \\\n",
            "2172               0          0         0               0          0   \n",
            "2298               0          0         0               0          0   \n",
            "2466               0          0         0               0          0   \n",
            "3652               0          0         0               0          0   \n",
            "3682               0          0         0               0          0   \n",
            "\n",
            "      WR_shift  FB_snap_motion  FB_motion  FB_shift  TE_snap_motion  \\\n",
            "2172         0               0          0         0               0   \n",
            "2298         0               0          0         0               0   \n",
            "2466         0               0          0         0               0   \n",
            "3652         0               0          0         0               0   \n",
            "3682         0               0          0         0               0   \n",
            "\n",
            "      TE_motion  TE_shift  QB_snap_motion  QB_motion  QB_shift  \n",
            "2172          0         0               0          0         0  \n",
            "2298          0         0               0          0         0  \n",
            "2466          0         1               0          0         0  \n",
            "3652          0         0               0          0         0  \n",
            "3682          0         0               0          0         0  \n"
          ]
        }
      ]
    },
    {
      "cell_type": "code",
      "source": [
        "# List of columns to check\n",
        "columns_to_check = [\n",
        "    'inMotionAtBallSnap', 'shiftSinceLineset', 'motionSinceLineset', 'RB_snap_motion',\n",
        "    'WR_snap_motion', 'FB_snap_motion', 'TE_snap_motion', 'QB_snap_motion',\n",
        "    'RB_motion', 'WR_motion', 'FB_motion', 'TE_motion', 'QB_motion',\n",
        "    'RB_shift', 'WR_shift', 'FB_shift', 'TE_shift', 'QB_shift'\n",
        "]\n",
        "\n",
        "# Display value counts for each column\n",
        "for column in columns_to_check:\n",
        "    print(f\"Value counts for {column}:\")\n",
        "    print(filtered_pred_df[column].value_counts())\n",
        "    print(\"\\n\")"
      ],
      "metadata": {
        "id": "kb9SV6fhL0l_",
        "outputId": "4d6cb6df-0592-40c5-aeff-80b0c5cc9c9e",
        "colab": {
          "base_uri": "https://localhost:8080/"
        }
      },
      "execution_count": 16,
      "outputs": [
        {
          "output_type": "stream",
          "name": "stdout",
          "text": [
            "Value counts for inMotionAtBallSnap:\n",
            "inMotionAtBallSnap\n",
            "0    9105\n",
            "1     410\n",
            "Name: count, dtype: int64\n",
            "\n",
            "\n",
            "Value counts for shiftSinceLineset:\n",
            "shiftSinceLineset\n",
            "0    9183\n",
            "1     332\n",
            "Name: count, dtype: int64\n",
            "\n",
            "\n",
            "Value counts for motionSinceLineset:\n",
            "motionSinceLineset\n",
            "0    9094\n",
            "1     421\n",
            "Name: count, dtype: int64\n",
            "\n",
            "\n",
            "Value counts for RB_snap_motion:\n",
            "RB_snap_motion\n",
            "0    9475\n",
            "1      40\n",
            "Name: count, dtype: int64\n",
            "\n",
            "\n",
            "Value counts for WR_snap_motion:\n",
            "WR_snap_motion\n",
            "0    9255\n",
            "1     260\n",
            "Name: count, dtype: int64\n",
            "\n",
            "\n",
            "Value counts for FB_snap_motion:\n",
            "FB_snap_motion\n",
            "0    9503\n",
            "1      12\n",
            "Name: count, dtype: int64\n",
            "\n",
            "\n",
            "Value counts for TE_snap_motion:\n",
            "TE_snap_motion\n",
            "0    9418\n",
            "1      97\n",
            "Name: count, dtype: int64\n",
            "\n",
            "\n",
            "Value counts for QB_snap_motion:\n",
            "QB_snap_motion\n",
            "0    9514\n",
            "1       1\n",
            "Name: count, dtype: int64\n",
            "\n",
            "\n",
            "Value counts for RB_motion:\n",
            "RB_motion\n",
            "0    9421\n",
            "1      94\n",
            "Name: count, dtype: int64\n",
            "\n",
            "\n",
            "Value counts for WR_motion:\n",
            "WR_motion\n",
            "0    9312\n",
            "1     203\n",
            "Name: count, dtype: int64\n",
            "\n",
            "\n",
            "Value counts for FB_motion:\n",
            "FB_motion\n",
            "0    9502\n",
            "1      13\n",
            "Name: count, dtype: int64\n",
            "\n",
            "\n",
            "Value counts for TE_motion:\n",
            "TE_motion\n",
            "0    9404\n",
            "1     111\n",
            "Name: count, dtype: int64\n",
            "\n",
            "\n",
            "Value counts for QB_motion:\n",
            "QB_motion\n",
            "0    9515\n",
            "Name: count, dtype: int64\n",
            "\n",
            "\n",
            "Value counts for RB_shift:\n",
            "RB_shift\n",
            "0    9457\n",
            "1      58\n",
            "Name: count, dtype: int64\n",
            "\n",
            "\n",
            "Value counts for WR_shift:\n",
            "WR_shift\n",
            "0    9393\n",
            "1     122\n",
            "Name: count, dtype: int64\n",
            "\n",
            "\n",
            "Value counts for FB_shift:\n",
            "FB_shift\n",
            "0    9497\n",
            "1      18\n",
            "Name: count, dtype: int64\n",
            "\n",
            "\n",
            "Value counts for TE_shift:\n",
            "TE_shift\n",
            "0    9381\n",
            "1     134\n",
            "Name: count, dtype: int64\n",
            "\n",
            "\n",
            "Value counts for QB_shift:\n",
            "QB_shift\n",
            "0    9515\n",
            "Name: count, dtype: int64\n",
            "\n",
            "\n"
          ]
        }
      ]
    },
    {
      "cell_type": "code",
      "source": [
        "# Seeing how many records with given position\n",
        "for pos in ['RB', 'WR', 'FB', 'TE', 'QB']:\n",
        "    print(f\"Occurrences for {pos}:\")\n",
        "    print(filtered_pred_df[filtered_pred_df['position'] == pos].shape[0])\n"
      ],
      "metadata": {
        "id": "WYp_caPuN_dv",
        "outputId": "1a2299dc-221a-4010-c040-3dc5e3eb88df",
        "colab": {
          "base_uri": "https://localhost:8080/"
        }
      },
      "execution_count": 17,
      "outputs": [
        {
          "output_type": "stream",
          "name": "stdout",
          "text": [
            "Occurrences for RB:\n",
            "1392\n",
            "Occurrences for WR:\n",
            "3483\n",
            "Occurrences for FB:\n",
            "113\n",
            "Occurrences for TE:\n",
            "1786\n",
            "Occurrences for QB:\n",
            "1376\n"
          ]
        }
      ]
    },
    {
      "cell_type": "code",
      "source": [
        "# Filter the DataFrame for the 'ball_snap' event\n",
        "filtered_ball_snap_df = filtered_pred_df[filtered_pred_df['event'] == 'ball_snap']\n",
        "\n",
        "# Initialize new columns with NaN\n",
        "filtered_pred_df['qb_depth'] = None\n",
        "filtered_pred_df['rb_depth'] = None\n",
        "filtered_pred_df['fb_depth'] = None\n",
        "\n",
        "# Calculate qb_depth, rb_depth, fb_depth for each play\n",
        "for (gameId, playId), group in filtered_ball_snap_df.groupby(['gameId', 'playId']):\n",
        "    # Get positions for the current group\n",
        "    fball_x = group.loc[group['position'] == 'FBall', 'x']\n",
        "    qb_x = group.loc[group['position'] == 'QB', 'x']\n",
        "    rb_x = group.loc[group['position'] == 'RB', 'x']\n",
        "    fb_x = group.loc[group['position'] == 'FB', 'x']\n",
        "\n",
        "    # Ensure positions exist and calculate depths\n",
        "    if not fball_x.empty:\n",
        "        fball_x = fball_x.values[0]\n",
        "        if not qb_x.empty:\n",
        "            qb_depth = abs(fball_x - qb_x.values[0])  # Absolute difference\n",
        "            filtered_pred_df.loc[\n",
        "                (filtered_pred_df['gameId'] == gameId) &\n",
        "                (filtered_pred_df['playId'] == playId), 'qb_depth'] = qb_depth\n",
        "        if not rb_x.empty:\n",
        "            rb_depth = abs(fball_x - rb_x.values[0])  # Absolute difference\n",
        "            filtered_pred_df.loc[\n",
        "                (filtered_pred_df['gameId'] == gameId) &\n",
        "                (filtered_pred_df['playId'] == playId), 'rb_depth'] = rb_depth\n",
        "        if not fb_x.empty:\n",
        "            fb_depth = abs(fball_x - fb_x.values[0])  # Absolute difference\n",
        "            filtered_pred_df.loc[\n",
        "                (filtered_pred_df['gameId'] == gameId) &\n",
        "                (filtered_pred_df['playId'] == playId), 'fb_depth'] = fb_depth\n",
        "\n",
        "# Verify the result\n",
        "print(filtered_pred_df[['gameId', 'playId', 'qb_depth', 'rb_depth', 'fb_depth']].head(100))\n"
      ],
      "metadata": {
        "id": "QO-DgVgIiI-m",
        "outputId": "a0df57aa-d8c1-4cae-c5d5-a62aecc183a2",
        "colab": {
          "base_uri": "https://localhost:8080/"
        }
      },
      "execution_count": 18,
      "outputs": [
        {
          "output_type": "stream",
          "name": "stdout",
          "text": [
            "           gameId  playId  qb_depth  rb_depth fb_depth\n",
            "2172   2022110300    1182  1.500001  6.960001     None\n",
            "2298   2022110300    1182  1.500001  6.960001     None\n",
            "2466   2022110300    1182  1.500001  6.960001     None\n",
            "3652   2022110300    1182  1.500001  6.960001     None\n",
            "3682   2022110300    1182  1.500001  6.960001     None\n",
            "...           ...     ...       ...       ...      ...\n",
            "53964  2022110300    2035      1.66       7.3     None\n",
            "54873  2022110300    2035      1.66       7.3     None\n",
            "54987  2022110300    2035      1.66       7.3     None\n",
            "58011  2022110300    1091  1.340001  6.960001     None\n",
            "58665  2022110300    1091  1.340001  6.960001     None\n",
            "\n",
            "[100 rows x 5 columns]\n"
          ]
        }
      ]
    },
    {
      "cell_type": "code",
      "source": [
        "# Define aggregation logic\n",
        "aggregated_df = (\n",
        "    filtered_pred_df.groupby(['gameId', 'playId'], as_index=False).agg({\n",
        "        'rushLocationType': lambda x: 1 if any(val not in ['UNKNOWN', 'NA'] for val in x) else 0,\n",
        "        'x': lambda x: x[filtered_pred_df['position'] == 'FB'].mean() - x[filtered_pred_df['position'] == 'QB'].mean(),  # player depth\n",
        "        'qb_depth': 'max',\n",
        "        'rb_depth': 'max',\n",
        "        'fb_depth': 'max',\n",
        "        'absoluteYardlineNumber': 'first',\n",
        "        'preSnapHomeTeamWinProbability': 'first',\n",
        "        'preSnapVisitorTeamWinProbability': 'first',\n",
        "        'expectedPoints': 'first',\n",
        "        'offenseFormation': 'first',\n",
        "        'receiverAlignment': 'first',\n",
        "        'pff_passCoverage': 'first',\n",
        "        'pff_manZone': 'first',\n",
        "        'homeTeamPossession': 'first',\n",
        "        'quarter': 'first',\n",
        "        'down': 'first',\n",
        "        'yardsToGo': 'first',\n",
        "        'gameClock': 'first',\n",
        "        'possessionTeam': 'first',\n",
        "        'preSnapHomeScore': 'first',\n",
        "        'preSnapVisitorScore': 'first',\n",
        "        'RB_snap_motion': 'max',\n",
        "        'WR_snap_motion': 'max',\n",
        "        'FB_snap_motion': 'max',\n",
        "        'TE_snap_motion': 'max',\n",
        "        'QB_snap_motion': 'max',\n",
        "        'RB_motion': 'max',\n",
        "        'WR_motion': 'max',\n",
        "        'FB_motion': 'max',\n",
        "        'TE_motion': 'max',\n",
        "        'QB_motion': 'max',\n",
        "        'RB_shift': 'max',\n",
        "        'WR_shift': 'max',\n",
        "        'FB_shift': 'max',\n",
        "        'TE_shift': 'max',\n",
        "        'QB_shift': 'max'\n",
        "        })\n",
        ")\n",
        "\n",
        "# Replace NaN values in rb_depth and fb_depth with 0\n",
        "aggregated_df['rb_depth'] = aggregated_df['rb_depth'].fillna(0)\n",
        "aggregated_df['fb_depth'] = aggregated_df['fb_depth'].fillna(0)\n",
        "\n",
        "# Count the number of unique combinations of gameId and playId\n",
        "unique_combinations = aggregated_df.groupby(['gameId', 'playId']).ngroups\n",
        "print(f\"Number of unique combinations of gameId and playId: {unique_combinations}\")\n",
        "\n",
        "print(aggregated_df.shape)\n",
        "print(aggregated_df.head())"
      ],
      "metadata": {
        "id": "6we7htsyJkAc",
        "outputId": "088be872-f11c-476e-c5d1-c57a851560f7",
        "colab": {
          "base_uri": "https://localhost:8080/"
        }
      },
      "execution_count": 19,
      "outputs": [
        {
          "output_type": "stream",
          "name": "stdout",
          "text": [
            "Number of unique combinations of gameId and playId: 1365\n",
            "(1365, 38)\n",
            "       gameId  playId  rushLocationType     x  qb_depth  rb_depth  fb_depth  \\\n",
            "0  2022110300      55                 1   NaN      4.66  4.990000  0.000000   \n",
            "1  2022110300      76                 0   NaN  1.409999  7.699999  0.000000   \n",
            "2  2022110300     100                 1   NaN       5.1  5.300000  0.000000   \n",
            "3  2022110300     121                 1 -3.45  1.440001  7.740001  4.890001   \n",
            "4  2022110300     142                 1   NaN      1.36  7.450000  0.000000   \n",
            "\n",
            "   absoluteYardlineNumber  preSnapHomeTeamWinProbability  \\\n",
            "0                      35                       0.148526   \n",
            "1                      46                       0.160490   \n",
            "2                      54                       0.171295   \n",
            "3                      59                       0.181043   \n",
            "4                      62                       0.180569   \n",
            "\n",
            "   preSnapVisitorTeamWinProbability  expectedPoints offenseFormation  \\\n",
            "0                          0.851474        1.298699          SHOTGUN   \n",
            "1                          0.839510        2.051233       SINGLEBACK   \n",
            "2                          0.828705        2.690037          SHOTGUN   \n",
            "3                          0.818957        2.870526           I_FORM   \n",
            "4                          0.819431        2.637413       SINGLEBACK   \n",
            "\n",
            "  receiverAlignment pff_passCoverage pff_manZone  homeTeamPossession  quarter  \\\n",
            "0               3x1          Cover-3        Zone                   1        1   \n",
            "1               3x1          Cover-3        Zone                   1        1   \n",
            "2               3x1          Cover-3        Zone                   1        1   \n",
            "3               2x1         Quarters        Zone                   1        1   \n",
            "4               3x1          Cover-3        Zone                   1        1   \n",
            "\n",
            "   down  yardsToGo gameClock possessionTeam  preSnapHomeScore  \\\n",
            "0     1         10     15:00            HOU                 0   \n",
            "1     1         10     14:28            HOU                 0   \n",
            "2     2          2     13:52            HOU                 0   \n",
            "3     1         10     13:12            HOU                 0   \n",
            "4     2          7     12:36            HOU                 0   \n",
            "\n",
            "   preSnapVisitorScore  RB_snap_motion  WR_snap_motion  FB_snap_motion  \\\n",
            "0                    0               0               0               0   \n",
            "1                    0               0               0               0   \n",
            "2                    0               0               1               0   \n",
            "3                    0               0               0               0   \n",
            "4                    0               0               1               0   \n",
            "\n",
            "   TE_snap_motion  QB_snap_motion  RB_motion  WR_motion  FB_motion  TE_motion  \\\n",
            "0               0               0          0          0          0          0   \n",
            "1               0               0          0          0          0          0   \n",
            "2               0               0          0          0          0          0   \n",
            "3               0               0          0          0          0          0   \n",
            "4               0               0          0          0          0          0   \n",
            "\n",
            "   QB_motion  RB_shift  WR_shift  FB_shift  TE_shift  QB_shift  \n",
            "0          0         0         0         0         0         0  \n",
            "1          0         0         0         0         0         0  \n",
            "2          0         0         0         0         0         0  \n",
            "3          0         0         0         0         0         0  \n",
            "4          0         0         0         0         0         0  \n"
          ]
        },
        {
          "output_type": "stream",
          "name": "stderr",
          "text": [
            "<ipython-input-19-3cf8004c5848>:44: FutureWarning: Downcasting object dtype arrays on .fillna, .ffill, .bfill is deprecated and will change in a future version. Call result.infer_objects(copy=False) instead. To opt-in to the future behavior, set `pd.set_option('future.no_silent_downcasting', True)`\n",
            "  aggregated_df['rb_depth'] = aggregated_df['rb_depth'].fillna(0)\n",
            "<ipython-input-19-3cf8004c5848>:45: FutureWarning: Downcasting object dtype arrays on .fillna, .ffill, .bfill is deprecated and will change in a future version. Call result.infer_objects(copy=False) instead. To opt-in to the future behavior, set `pd.set_option('future.no_silent_downcasting', True)`\n",
            "  aggregated_df['fb_depth'] = aggregated_df['fb_depth'].fillna(0)\n"
          ]
        }
      ]
    },
    {
      "cell_type": "code",
      "source": [
        "# Drop unnecessary columns\n",
        "aggregated_df = aggregated_df.drop(columns=['expectedPoints', 'x', 'QB_motion', 'QB_shift', 'QB_snap_motion'], errors='ignore')\n",
        "\n",
        "# Rename 'rushLocationType' to 'target_rush'\n",
        "aggregated_df = aggregated_df.rename(columns={'rushLocationType': 'target_rush'})\n",
        "\n",
        "# Verify the result\n",
        "print(aggregated_df.head())\n"
      ],
      "metadata": {
        "id": "ibTVFGsmP2P1",
        "outputId": "f258038d-ba52-4ef5-9067-1aa555d32b73",
        "colab": {
          "base_uri": "https://localhost:8080/"
        }
      },
      "execution_count": 20,
      "outputs": [
        {
          "output_type": "stream",
          "name": "stdout",
          "text": [
            "       gameId  playId  target_rush  qb_depth  rb_depth  fb_depth  \\\n",
            "0  2022110300      55            1      4.66  4.990000  0.000000   \n",
            "1  2022110300      76            0  1.409999  7.699999  0.000000   \n",
            "2  2022110300     100            1       5.1  5.300000  0.000000   \n",
            "3  2022110300     121            1  1.440001  7.740001  4.890001   \n",
            "4  2022110300     142            1      1.36  7.450000  0.000000   \n",
            "\n",
            "   absoluteYardlineNumber  preSnapHomeTeamWinProbability  \\\n",
            "0                      35                       0.148526   \n",
            "1                      46                       0.160490   \n",
            "2                      54                       0.171295   \n",
            "3                      59                       0.181043   \n",
            "4                      62                       0.180569   \n",
            "\n",
            "   preSnapVisitorTeamWinProbability offenseFormation receiverAlignment  \\\n",
            "0                          0.851474          SHOTGUN               3x1   \n",
            "1                          0.839510       SINGLEBACK               3x1   \n",
            "2                          0.828705          SHOTGUN               3x1   \n",
            "3                          0.818957           I_FORM               2x1   \n",
            "4                          0.819431       SINGLEBACK               3x1   \n",
            "\n",
            "  pff_passCoverage pff_manZone  homeTeamPossession  quarter  down  yardsToGo  \\\n",
            "0          Cover-3        Zone                   1        1     1         10   \n",
            "1          Cover-3        Zone                   1        1     1         10   \n",
            "2          Cover-3        Zone                   1        1     2          2   \n",
            "3         Quarters        Zone                   1        1     1         10   \n",
            "4          Cover-3        Zone                   1        1     2          7   \n",
            "\n",
            "  gameClock possessionTeam  preSnapHomeScore  preSnapVisitorScore  \\\n",
            "0     15:00            HOU                 0                    0   \n",
            "1     14:28            HOU                 0                    0   \n",
            "2     13:52            HOU                 0                    0   \n",
            "3     13:12            HOU                 0                    0   \n",
            "4     12:36            HOU                 0                    0   \n",
            "\n",
            "   RB_snap_motion  WR_snap_motion  FB_snap_motion  TE_snap_motion  RB_motion  \\\n",
            "0               0               0               0               0          0   \n",
            "1               0               0               0               0          0   \n",
            "2               0               1               0               0          0   \n",
            "3               0               0               0               0          0   \n",
            "4               0               1               0               0          0   \n",
            "\n",
            "   WR_motion  FB_motion  TE_motion  RB_shift  WR_shift  FB_shift  TE_shift  \n",
            "0          0          0          0         0         0         0         0  \n",
            "1          0          0          0         0         0         0         0  \n",
            "2          0          0          0         0         0         0         0  \n",
            "3          0          0          0         0         0         0         0  \n",
            "4          0          0          0         0         0         0         0  \n"
          ]
        }
      ]
    },
    {
      "cell_type": "code",
      "source": [
        "# Verifying no null values exist\n",
        "print(aggregated_df.isnull().sum())"
      ],
      "metadata": {
        "id": "GfBQwuxnjRjt",
        "outputId": "e168ad23-b82e-4d01-c6dc-4744201a016f",
        "colab": {
          "base_uri": "https://localhost:8080/"
        }
      },
      "execution_count": 21,
      "outputs": [
        {
          "output_type": "stream",
          "name": "stdout",
          "text": [
            "gameId                              0\n",
            "playId                              0\n",
            "target_rush                         0\n",
            "qb_depth                            0\n",
            "rb_depth                            0\n",
            "fb_depth                            0\n",
            "absoluteYardlineNumber              0\n",
            "preSnapHomeTeamWinProbability       0\n",
            "preSnapVisitorTeamWinProbability    0\n",
            "offenseFormation                    0\n",
            "receiverAlignment                   0\n",
            "pff_passCoverage                    0\n",
            "pff_manZone                         0\n",
            "homeTeamPossession                  0\n",
            "quarter                             0\n",
            "down                                0\n",
            "yardsToGo                           0\n",
            "gameClock                           0\n",
            "possessionTeam                      0\n",
            "preSnapHomeScore                    0\n",
            "preSnapVisitorScore                 0\n",
            "RB_snap_motion                      0\n",
            "WR_snap_motion                      0\n",
            "FB_snap_motion                      0\n",
            "TE_snap_motion                      0\n",
            "RB_motion                           0\n",
            "WR_motion                           0\n",
            "FB_motion                           0\n",
            "TE_motion                           0\n",
            "RB_shift                            0\n",
            "WR_shift                            0\n",
            "FB_shift                            0\n",
            "TE_shift                            0\n",
            "dtype: int64\n"
          ]
        }
      ]
    },
    {
      "cell_type": "code",
      "source": [
        "from google.cloud import bigquery\n",
        "from google.oauth2 import service_account\n",
        "import pandas_gbq\n",
        "\n",
        "dataset_table = f\"{dataset_id}.aggregated_week9_df\"\n",
        "\n",
        "# Write the DataFrame to BigQuery\n",
        "pandas_gbq.to_gbq(\n",
        "    aggregated_df,\n",
        "    dataset_table,\n",
        "    project_id=project_id,\n",
        "    if_exists='replace'  # Options: 'fail', 'replace', 'append'\n",
        ")\n",
        "\n",
        "print(f\"DataFrame saved to BigQuery table {dataset_table}\")\n"
      ],
      "metadata": {
        "id": "QL6W68LgQxqj",
        "outputId": "e2f72356-bed8-4aa6-cb96-045b4405ac16",
        "colab": {
          "base_uri": "https://localhost:8080/"
        }
      },
      "execution_count": 22,
      "outputs": [
        {
          "output_type": "stream",
          "name": "stderr",
          "text": [
            "100%|██████████| 1/1 [00:00<00:00, 1060.24it/s]"
          ]
        },
        {
          "output_type": "stream",
          "name": "stdout",
          "text": [
            "DataFrame saved to BigQuery table bdb_tables.aggregated_week9_df\n"
          ]
        },
        {
          "output_type": "stream",
          "name": "stderr",
          "text": [
            "\n"
          ]
        }
      ]
    }
  ]
}