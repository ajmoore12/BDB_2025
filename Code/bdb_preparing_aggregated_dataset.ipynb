{
  "metadata": {
    "kernelspec": {
      "language": "python",
      "display_name": "Python 3",
      "name": "python3"
    },
    "language_info": {
      "name": "python",
      "version": "3.10.14",
      "mimetype": "text/x-python",
      "codemirror_mode": {
        "name": "ipython",
        "version": 3
      },
      "pygments_lexer": "ipython3",
      "nbconvert_exporter": "python",
      "file_extension": ".py"
    },
    "kaggle": {
      "accelerator": "none",
      "dataSources": [
        {
          "sourceId": 84175,
          "databundleVersionId": 9816926,
          "sourceType": "competition"
        },
        {
          "sourceId": 9995342,
          "sourceType": "datasetVersion",
          "datasetId": 6151944
        },
        {
          "sourceId": 9995371,
          "sourceType": "datasetVersion",
          "datasetId": 6151964
        }
      ],
      "dockerImageVersionId": 30786,
      "isInternetEnabled": true,
      "language": "python",
      "sourceType": "notebook",
      "isGpuEnabled": false
    },
    "colab": {
      "provenance": [],
      "name": "bdb_preparing_aggregated_dataset"
    }
  },
  "nbformat_minor": 0,
  "nbformat": 4,
  "cells": [
    {
      "cell_type": "markdown",
      "source": [
        "# Creating Final Aggregated Dataset\n",
        "## Process used for weeks 1 through 9"
      ],
      "metadata": {
        "id": "AyxcSWX48uyP"
      }
    },
    {
      "cell_type": "code",
      "source": [
        "!pip install google-cloud-bigquery google-cloud-storage"
      ],
      "metadata": {
        "colab": {
          "base_uri": "https://localhost:8080/"
        },
        "collapsed": true,
        "id": "aUHFkNpImngc",
        "outputId": "c5f94baa-8dd4-4388-b0ec-f0654763a6e8"
      },
      "execution_count": 1,
      "outputs": [
        {
          "output_type": "stream",
          "name": "stdout",
          "text": [
            "Requirement already satisfied: google-cloud-bigquery in /usr/local/lib/python3.10/dist-packages (3.25.0)\n",
            "Requirement already satisfied: google-cloud-storage in /usr/local/lib/python3.10/dist-packages (2.8.0)\n",
            "Requirement already satisfied: google-api-core!=2.0.*,!=2.1.*,!=2.10.*,!=2.2.*,!=2.3.*,!=2.4.*,!=2.5.*,!=2.6.*,!=2.7.*,!=2.8.*,!=2.9.*,<3.0.0dev,>=1.34.1 in /usr/local/lib/python3.10/dist-packages (from google-api-core[grpc]!=2.0.*,!=2.1.*,!=2.10.*,!=2.2.*,!=2.3.*,!=2.4.*,!=2.5.*,!=2.6.*,!=2.7.*,!=2.8.*,!=2.9.*,<3.0.0dev,>=1.34.1->google-cloud-bigquery) (2.19.2)\n",
            "Requirement already satisfied: google-auth<3.0.0dev,>=2.14.1 in /usr/local/lib/python3.10/dist-packages (from google-cloud-bigquery) (2.27.0)\n",
            "Requirement already satisfied: google-cloud-core<3.0.0dev,>=1.6.0 in /usr/local/lib/python3.10/dist-packages (from google-cloud-bigquery) (2.4.1)\n",
            "Requirement already satisfied: google-resumable-media<3.0dev,>=0.6.0 in /usr/local/lib/python3.10/dist-packages (from google-cloud-bigquery) (2.7.2)\n",
            "Requirement already satisfied: packaging>=20.0.0 in /usr/local/lib/python3.10/dist-packages (from google-cloud-bigquery) (24.2)\n",
            "Requirement already satisfied: python-dateutil<3.0dev,>=2.7.2 in /usr/local/lib/python3.10/dist-packages (from google-cloud-bigquery) (2.8.2)\n",
            "Requirement already satisfied: requests<3.0.0dev,>=2.21.0 in /usr/local/lib/python3.10/dist-packages (from google-cloud-bigquery) (2.32.3)\n",
            "Requirement already satisfied: googleapis-common-protos<2.0.dev0,>=1.56.2 in /usr/local/lib/python3.10/dist-packages (from google-api-core!=2.0.*,!=2.1.*,!=2.10.*,!=2.2.*,!=2.3.*,!=2.4.*,!=2.5.*,!=2.6.*,!=2.7.*,!=2.8.*,!=2.9.*,<3.0.0dev,>=1.34.1->google-api-core[grpc]!=2.0.*,!=2.1.*,!=2.10.*,!=2.2.*,!=2.3.*,!=2.4.*,!=2.5.*,!=2.6.*,!=2.7.*,!=2.8.*,!=2.9.*,<3.0.0dev,>=1.34.1->google-cloud-bigquery) (1.65.0)\n",
            "Requirement already satisfied: protobuf!=3.20.0,!=3.20.1,!=4.21.0,!=4.21.1,!=4.21.2,!=4.21.3,!=4.21.4,!=4.21.5,<6.0.0.dev0,>=3.19.5 in /usr/local/lib/python3.10/dist-packages (from google-api-core!=2.0.*,!=2.1.*,!=2.10.*,!=2.2.*,!=2.3.*,!=2.4.*,!=2.5.*,!=2.6.*,!=2.7.*,!=2.8.*,!=2.9.*,<3.0.0dev,>=1.34.1->google-api-core[grpc]!=2.0.*,!=2.1.*,!=2.10.*,!=2.2.*,!=2.3.*,!=2.4.*,!=2.5.*,!=2.6.*,!=2.7.*,!=2.8.*,!=2.9.*,<3.0.0dev,>=1.34.1->google-cloud-bigquery) (4.25.5)\n",
            "Requirement already satisfied: proto-plus<2.0.0dev,>=1.22.3 in /usr/local/lib/python3.10/dist-packages (from google-api-core!=2.0.*,!=2.1.*,!=2.10.*,!=2.2.*,!=2.3.*,!=2.4.*,!=2.5.*,!=2.6.*,!=2.7.*,!=2.8.*,!=2.9.*,<3.0.0dev,>=1.34.1->google-api-core[grpc]!=2.0.*,!=2.1.*,!=2.10.*,!=2.2.*,!=2.3.*,!=2.4.*,!=2.5.*,!=2.6.*,!=2.7.*,!=2.8.*,!=2.9.*,<3.0.0dev,>=1.34.1->google-cloud-bigquery) (1.25.0)\n",
            "Requirement already satisfied: grpcio<2.0dev,>=1.33.2 in /usr/local/lib/python3.10/dist-packages (from google-api-core[grpc]!=2.0.*,!=2.1.*,!=2.10.*,!=2.2.*,!=2.3.*,!=2.4.*,!=2.5.*,!=2.6.*,!=2.7.*,!=2.8.*,!=2.9.*,<3.0.0dev,>=1.34.1->google-cloud-bigquery) (1.67.1)\n",
            "Requirement already satisfied: grpcio-status<2.0.dev0,>=1.33.2 in /usr/local/lib/python3.10/dist-packages (from google-api-core[grpc]!=2.0.*,!=2.1.*,!=2.10.*,!=2.2.*,!=2.3.*,!=2.4.*,!=2.5.*,!=2.6.*,!=2.7.*,!=2.8.*,!=2.9.*,<3.0.0dev,>=1.34.1->google-cloud-bigquery) (1.62.3)\n",
            "Requirement already satisfied: cachetools<6.0,>=2.0.0 in /usr/local/lib/python3.10/dist-packages (from google-auth<3.0.0dev,>=2.14.1->google-cloud-bigquery) (5.5.0)\n",
            "Requirement already satisfied: pyasn1-modules>=0.2.1 in /usr/local/lib/python3.10/dist-packages (from google-auth<3.0.0dev,>=2.14.1->google-cloud-bigquery) (0.4.1)\n",
            "Requirement already satisfied: rsa<5,>=3.1.4 in /usr/local/lib/python3.10/dist-packages (from google-auth<3.0.0dev,>=2.14.1->google-cloud-bigquery) (4.9)\n",
            "Requirement already satisfied: google-crc32c<2.0dev,>=1.0 in /usr/local/lib/python3.10/dist-packages (from google-resumable-media<3.0dev,>=0.6.0->google-cloud-bigquery) (1.6.0)\n",
            "Requirement already satisfied: six>=1.5 in /usr/local/lib/python3.10/dist-packages (from python-dateutil<3.0dev,>=2.7.2->google-cloud-bigquery) (1.16.0)\n",
            "Requirement already satisfied: charset-normalizer<4,>=2 in /usr/local/lib/python3.10/dist-packages (from requests<3.0.0dev,>=2.21.0->google-cloud-bigquery) (3.4.0)\n",
            "Requirement already satisfied: idna<4,>=2.5 in /usr/local/lib/python3.10/dist-packages (from requests<3.0.0dev,>=2.21.0->google-cloud-bigquery) (3.10)\n",
            "Requirement already satisfied: urllib3<3,>=1.21.1 in /usr/local/lib/python3.10/dist-packages (from requests<3.0.0dev,>=2.21.0->google-cloud-bigquery) (2.2.3)\n",
            "Requirement already satisfied: certifi>=2017.4.17 in /usr/local/lib/python3.10/dist-packages (from requests<3.0.0dev,>=2.21.0->google-cloud-bigquery) (2024.8.30)\n",
            "Requirement already satisfied: pyasn1<0.7.0,>=0.4.6 in /usr/local/lib/python3.10/dist-packages (from pyasn1-modules>=0.2.1->google-auth<3.0.0dev,>=2.14.1->google-cloud-bigquery) (0.6.1)\n"
          ]
        }
      ]
    },
    {
      "cell_type": "code",
      "source": [
        "from google.colab import auth\n",
        "auth.authenticate_user()"
      ],
      "metadata": {
        "colab": {
          "base_uri": "https://localhost:8080/"
        },
        "id": "68HZHayNmoSn",
        "outputId": "f4653a85-6127-4f98-fac2-b1ae761323e8"
      },
      "execution_count": 2,
      "outputs": [
        {
          "output_type": "stream",
          "name": "stdout",
          "text": [
            "WARNING: google.colab.auth.authenticate_user() is not supported in Colab Enterprise.\n"
          ]
        }
      ]
    },
    {
      "cell_type": "code",
      "source": [
        "from google.cloud import bigquery\n",
        "import pandas as pd\n",
        "\n",
        "# Initialize BigQuery client\n",
        "project_id = \"bigdatabowl2025\"\n",
        "client = bigquery.Client(project=project_id, location='us-central1')"
      ],
      "metadata": {
        "id": "lvRl5_5cmoP2"
      },
      "execution_count": 3,
      "outputs": []
    },
    {
      "cell_type": "code",
      "source": [
        "# List of table names and corresponding DataFrame names\n",
        "tables = {\n",
        "    \"players\": \"players_df\",\n",
        "    \"games\" : \"games_df\",\n",
        "    \"player_play\" : \"player_play_df\",\n",
        "    \"plays\" : \"plays_df\",\n",
        "    \"tracking_week_1\": \"tracking\"  #  Will use combined_tracking later\n",
        "}\n",
        "\n",
        "# Dataset details\n",
        "dataset_id = \"bdb_tables\"\n",
        "\n",
        "# Query each table and assign to DataFrame variables\n",
        "for table_name, df_name in tables.items():\n",
        "    query = f\"SELECT * FROM `{client.project}.{dataset_id}.{table_name}`\"\n",
        "    print(f\"Querying table: {table_name}\")\n",
        "    globals()[df_name] = client.query(query).to_dataframe()\n",
        "\n",
        "    print(f\"Loaded {len(globals()[df_name])} rows into DataFrame: {df_name}\")"
      ],
      "metadata": {
        "colab": {
          "base_uri": "https://localhost:8080/"
        },
        "id": "3ndhZ5lZmoM9",
        "outputId": "103d7f32-0ee0-46c0-f3f9-f942f5c6cd47"
      },
      "execution_count": 4,
      "outputs": [
        {
          "output_type": "stream",
          "name": "stdout",
          "text": [
            "Querying table: players\n",
            "Loaded 1697 rows into DataFrame: players_df\n",
            "Querying table: games\n",
            "Loaded 136 rows into DataFrame: games_df\n",
            "Querying table: player_play\n",
            "Loaded 354727 rows into DataFrame: player_play_df\n",
            "Querying table: plays\n",
            "Loaded 16124 rows into DataFrame: plays_df\n",
            "Querying table: tracking_week_1\n",
            "Loaded 7104700 rows into DataFrame: tracking\n"
          ]
        }
      ]
    },
    {
      "cell_type": "markdown",
      "source": [
        "### Importing Data"
      ],
      "metadata": {
        "_uuid": "e02628bf-ccc6-4624-b5fc-ab2c537884ea",
        "_cell_guid": "b866e7ce-bfb9-4db6-894b-fab7e4f87108",
        "trusted": true,
        "collapsed": false,
        "jupyter": {
          "outputs_hidden": false
        },
        "id": "sjKPdHjfmjFY"
      }
    },
    {
      "cell_type": "code",
      "source": [
        "!pip install bayesian-optimization"
      ],
      "metadata": {
        "colab": {
          "base_uri": "https://localhost:8080/"
        },
        "collapsed": true,
        "id": "-eW6TzZjoMiM",
        "outputId": "5524d3b9-7f00-4f22-cd27-22e5b630737c"
      },
      "execution_count": 5,
      "outputs": [
        {
          "output_type": "stream",
          "name": "stdout",
          "text": [
            "Collecting bayesian-optimization\n",
            "  Downloading bayesian_optimization-2.0.0-py3-none-any.whl.metadata (8.9 kB)\n",
            "Collecting colorama<0.5.0,>=0.4.6 (from bayesian-optimization)\n",
            "  Downloading colorama-0.4.6-py2.py3-none-any.whl.metadata (17 kB)\n",
            "Requirement already satisfied: numpy>=1.25 in /usr/local/lib/python3.10/dist-packages (from bayesian-optimization) (1.26.4)\n",
            "Requirement already satisfied: scikit-learn<2.0.0,>=1.0.0 in /usr/local/lib/python3.10/dist-packages (from bayesian-optimization) (1.5.2)\n",
            "Requirement already satisfied: scipy<2.0.0,>=1.0.0 in /usr/local/lib/python3.10/dist-packages (from bayesian-optimization) (1.13.1)\n",
            "Requirement already satisfied: joblib>=1.2.0 in /usr/local/lib/python3.10/dist-packages (from scikit-learn<2.0.0,>=1.0.0->bayesian-optimization) (1.4.2)\n",
            "Requirement already satisfied: threadpoolctl>=3.1.0 in /usr/local/lib/python3.10/dist-packages (from scikit-learn<2.0.0,>=1.0.0->bayesian-optimization) (3.5.0)\n",
            "Downloading bayesian_optimization-2.0.0-py3-none-any.whl (30 kB)\n",
            "Downloading colorama-0.4.6-py2.py3-none-any.whl (25 kB)\n",
            "Installing collected packages: colorama, bayesian-optimization\n",
            "Successfully installed bayesian-optimization-2.0.0 colorama-0.4.6\n"
          ]
        }
      ]
    },
    {
      "cell_type": "code",
      "source": [
        "import numpy as np\n",
        "import pandas as pd\n",
        "import os\n",
        "import matplotlib.pyplot as plt\n",
        "import matplotlib.image as mpimg\n",
        "import plotly.graph_objects as go\n",
        "from sklearn.model_selection import train_test_split, KFold, cross_val_score\n",
        "from sklearn.metrics import accuracy_score, roc_auc_score, confusion_matrix, roc_curve\n",
        "from sklearn.preprocessing import LabelEncoder, StandardScaler\n",
        "from bayes_opt import BayesianOptimization\n",
        "import xgboost as xgb\n",
        "import seaborn as sns\n",
        "pd.set_option('display.max_columns', None)\n"
      ],
      "metadata": {
        "_uuid": "074a3b63-e324-4710-9aac-2bd362495408",
        "_cell_guid": "25021529-a864-4231-b36c-cb7c51c206a8",
        "trusted": true,
        "execution": {
          "iopub.status.busy": "2024-11-24T00:33:35.812230Z",
          "iopub.execute_input": "2024-11-24T00:33:35.813014Z",
          "iopub.status.idle": "2024-11-24T00:34:04.310242Z",
          "shell.execute_reply.started": "2024-11-24T00:33:35.812933Z",
          "shell.execute_reply": "2024-11-24T00:34:04.309001Z"
        },
        "jupyter": {
          "outputs_hidden": false
        },
        "id": "3WBaggTZmjFY"
      },
      "outputs": [],
      "execution_count": 6
    },
    {
      "cell_type": "code",
      "source": [
        "# Select only necessary columns from each DataFrame for this analysis\n",
        "plays_df = plays_df[['gameId', 'playId', 'rushLocationType', 'quarter', 'down', 'yardsToGo', 'gameClock',\n",
        "       'possessionTeam', 'preSnapHomeScore', 'preSnapVisitorScore', 'absoluteYardlineNumber',\n",
        "       'preSnapHomeTeamWinProbability', 'preSnapVisitorTeamWinProbability',\n",
        "       'expectedPoints', 'offenseFormation', 'receiverAlignment', 'pff_passCoverage', 'pff_manZone']]\n",
        "players_df = players_df[['nflId', 'position']]\n",
        "games_df = games_df[['gameId', 'gameDate', 'gameTimeEastern', 'homeTeamAbbr']]\n",
        "player_play_df = player_play_df[['gameId', 'playId', 'nflId', 'inMotionAtBallSnap', 'shiftSinceLineset', 'motionSinceLineset']]\n",
        "tracking_df = tracking[['gameId', 'playId', 'nflId', 'displayName', 'x', 'y', 'event']]\n",
        "# merged_df = players_df.merge(player_play_df, on='nflId', how='left')\n",
        "# base_df = plays_df.merge(merged_df, on=['gameId', 'playId'], how='left')\n",
        "# print(base_df.head())"
      ],
      "metadata": {
        "_uuid": "06486c59-6d12-429c-a049-05a67148f36a",
        "_cell_guid": "f35f2036-b4a6-4d89-912e-6e9e34a3756e",
        "trusted": true,
        "execution": {
          "iopub.status.busy": "2024-11-24T00:34:04.352906Z",
          "iopub.execute_input": "2024-11-24T00:34:04.353385Z",
          "iopub.status.idle": "2024-11-24T00:34:04.536671Z",
          "shell.execute_reply.started": "2024-11-24T00:34:04.353332Z",
          "shell.execute_reply": "2024-11-24T00:34:04.535411Z"
        },
        "jupyter": {
          "outputs_hidden": false
        },
        "id": "R7a-3ti9mjFZ"
      },
      "outputs": [],
      "execution_count": 7
    },
    {
      "cell_type": "code",
      "source": [
        "# Check for and handle invalid values in nflId\n",
        "tracking_df['nflId'] = pd.to_numeric(tracking_df['nflId'], errors='coerce')  # Convert non-numeric to NaN\n",
        "tracking_df['nflId'] = tracking_df['nflId'].fillna(-1).astype('int32')       # Fill NaN with -1 and convert to int32\n",
        "\n",
        "# Adjust data types for memory efficiency using .loc[] to avoid SettingWithCopyWarning\n",
        "games_df.loc[:, 'gameId'] = games_df['gameId'].astype('int32')\n",
        "plays_df.loc[:, 'gameId'] = plays_df['gameId'].astype('int32')\n",
        "plays_df.loc[:, 'playId'] = plays_df['playId'].astype('int32')\n",
        "player_play_df.loc[:, 'gameId'] = player_play_df['gameId'].astype('int32')\n",
        "player_play_df.loc[:, 'playId'] = player_play_df['playId'].astype('int32')\n",
        "tracking_df.loc[:, 'gameId'] = tracking_df['gameId'].astype('int32')\n",
        "tracking_df.loc[:, 'playId'] = tracking_df['playId'].astype('int32')\n",
        "players_df.loc[:, 'nflId'] = players_df['nflId'].astype('int32')\n",
        "player_play_df.loc[:, 'nflId'] = player_play_df['nflId'].astype('int32')\n"
      ],
      "metadata": {
        "_uuid": "2612722e-dd47-4bdd-abb7-0420ed0229b2",
        "_cell_guid": "4d61b47c-a304-4cde-8047-7db6478d4e97",
        "trusted": true,
        "execution": {
          "iopub.status.busy": "2024-11-24T00:34:04.539124Z",
          "iopub.execute_input": "2024-11-24T00:34:04.539492Z",
          "iopub.status.idle": "2024-11-24T00:34:04.726974Z",
          "shell.execute_reply.started": "2024-11-24T00:34:04.539456Z",
          "shell.execute_reply": "2024-11-24T00:34:04.725543Z"
        },
        "jupyter": {
          "outputs_hidden": false
        },
        "id": "amW6JJ5ZmjFZ",
        "colab": {
          "base_uri": "https://localhost:8080/"
        },
        "outputId": "75acf7e5-b43b-417c-bec3-d18da3e4bd1e"
      },
      "outputs": [
        {
          "output_type": "stream",
          "name": "stderr",
          "text": [
            "<ipython-input-8-58ba083fa3be>:2: SettingWithCopyWarning: \n",
            "A value is trying to be set on a copy of a slice from a DataFrame.\n",
            "Try using .loc[row_indexer,col_indexer] = value instead\n",
            "\n",
            "See the caveats in the documentation: https://pandas.pydata.org/pandas-docs/stable/user_guide/indexing.html#returning-a-view-versus-a-copy\n",
            "  tracking_df['nflId'] = pd.to_numeric(tracking_df['nflId'], errors='coerce')  # Convert non-numeric to NaN\n",
            "<ipython-input-8-58ba083fa3be>:3: SettingWithCopyWarning: \n",
            "A value is trying to be set on a copy of a slice from a DataFrame.\n",
            "Try using .loc[row_indexer,col_indexer] = value instead\n",
            "\n",
            "See the caveats in the documentation: https://pandas.pydata.org/pandas-docs/stable/user_guide/indexing.html#returning-a-view-versus-a-copy\n",
            "  tracking_df['nflId'] = tracking_df['nflId'].fillna(-1).astype('int32')       # Fill NaN with -1 and convert to int32\n"
          ]
        }
      ],
      "execution_count": 8
    },
    {
      "cell_type": "code",
      "source": [
        "# Join the DataFrames\n",
        "\n",
        "# Join plays and tracking on 'gameId' and 'playId'\n",
        "join_all = pd.merge(plays_df, tracking_df, how=\"inner\", on=[\"gameId\", \"playId\"])\n",
        "\n",
        "# Join the resulting DataFrame with players on 'nflId'\n",
        "join_all = join_all.merge(players_df, how=\"left\", on=\"nflId\")\n",
        "\n",
        "join_all = join_all.merge(player_play_df, how=\"left\", on=[\"gameId\", \"playId\", \"nflId\"])\n",
        "\n",
        "join_all = join_all.merge(games_df, how=\"left\", on='gameId')\n",
        "\n",
        "# Display information on the joined DataFrame\n",
        "print(\"Final joined DataFrame shape:\", join_all.shape)\n",
        "print(join_all.head())"
      ],
      "metadata": {
        "_uuid": "d58723a0-47a5-4c14-9b7e-7f20daed2033",
        "_cell_guid": "666dc125-ad1a-4621-8348-f8500ada0f69",
        "trusted": true,
        "execution": {
          "iopub.status.busy": "2024-11-24T00:34:04.728373Z",
          "iopub.execute_input": "2024-11-24T00:34:04.728718Z",
          "iopub.status.idle": "2024-11-24T00:34:21.764553Z",
          "shell.execute_reply.started": "2024-11-24T00:34:04.728684Z",
          "shell.execute_reply": "2024-11-24T00:34:21.763282Z"
        },
        "jupyter": {
          "outputs_hidden": false
        },
        "id": "g8YCcaTAmjFa",
        "colab": {
          "base_uri": "https://localhost:8080/"
        },
        "outputId": "32d77803-d7cc-4662-dcd7-be36e35be111"
      },
      "outputs": [
        {
          "output_type": "stream",
          "name": "stdout",
          "text": [
            "Final joined DataFrame shape: (7104700, 30)\n",
            "       gameId  playId rushLocationType  quarter  down  yardsToGo gameClock  \\\n",
            "0  2022090800    1406     INSIDE_RIGHT        2     1          7     03:42   \n",
            "1  2022090800    1406     INSIDE_RIGHT        2     1          7     03:42   \n",
            "2  2022090800    1406     INSIDE_RIGHT        2     1          7     03:42   \n",
            "3  2022090800    1406     INSIDE_RIGHT        2     1          7     03:42   \n",
            "4  2022090800    1406     INSIDE_RIGHT        2     1          7     03:42   \n",
            "\n",
            "  possessionTeam  preSnapHomeScore  preSnapVisitorScore  \\\n",
            "0             LA                 0                   10   \n",
            "1             LA                 0                   10   \n",
            "2             LA                 0                   10   \n",
            "3             LA                 0                   10   \n",
            "4             LA                 0                   10   \n",
            "\n",
            "   absoluteYardlineNumber  preSnapHomeTeamWinProbability  \\\n",
            "0                      17                       0.263124   \n",
            "1                      17                       0.263124   \n",
            "2                      17                       0.263124   \n",
            "3                      17                       0.263124   \n",
            "4                      17                       0.263124   \n",
            "\n",
            "   preSnapVisitorTeamWinProbability  expectedPoints offenseFormation  \\\n",
            "0                          0.736876        5.490634       SINGLEBACK   \n",
            "1                          0.736876        5.490634       SINGLEBACK   \n",
            "2                          0.736876        5.490634       SINGLEBACK   \n",
            "3                          0.736876        5.490634       SINGLEBACK   \n",
            "4                          0.736876        5.490634       SINGLEBACK   \n",
            "\n",
            "  receiverAlignment pff_passCoverage pff_manZone  nflId     displayName  \\\n",
            "0               3x1         Red Zone       Other  43399    Tyler Higbee   \n",
            "1               3x1         Red Zone       Other  41290  Allen Robinson   \n",
            "2               3x1         Red Zone       Other  46180     Brian Allen   \n",
            "3               3x1         Red Zone       Other  53678   Ben Skowronek   \n",
            "4               3x1         Red Zone       Other  44881     Cooper Kupp   \n",
            "\n",
            "       x      y event position inMotionAtBallSnap shiftSinceLineset  \\\n",
            "0  18.39  28.38    NA       TE              FALSE             FALSE   \n",
            "1  17.66   9.51    NA       WR              FALSE             FALSE   \n",
            "2  12.39  22.76    NA        C              FALSE             FALSE   \n",
            "3  19.42  28.00    NA       WR              FALSE             FALSE   \n",
            "4  13.53  29.42    NA       WR              FALSE             FALSE   \n",
            "\n",
            "  motionSinceLineset    gameDate gameTimeEastern homeTeamAbbr  \n",
            "0              FALSE  2022-09-08        20:20:00           LA  \n",
            "1              FALSE  2022-09-08        20:20:00           LA  \n",
            "2              FALSE  2022-09-08        20:20:00           LA  \n",
            "3              FALSE  2022-09-08        20:20:00           LA  \n",
            "4              FALSE  2022-09-08        20:20:00           LA  \n"
          ]
        }
      ],
      "execution_count": 9
    },
    {
      "cell_type": "code",
      "source": [
        "pred_df = join_all\n",
        "print(pred_df['playId'].nunique())\n",
        "print(pred_df['gameId'].nunique())\n",
        "print(len(pred_df))"
      ],
      "metadata": {
        "_uuid": "10f856d5-21ba-43ce-93b1-3fba82d434c2",
        "_cell_guid": "db91ac3a-1c5e-44ea-8643-18812f09b23b",
        "trusted": true,
        "execution": {
          "iopub.status.busy": "2024-11-24T00:34:21.765928Z",
          "iopub.execute_input": "2024-11-24T00:34:21.766223Z",
          "iopub.status.idle": "2024-11-24T00:34:22.224991Z",
          "shell.execute_reply.started": "2024-11-24T00:34:21.766192Z",
          "shell.execute_reply": "2024-11-24T00:34:22.223456Z"
        },
        "jupyter": {
          "outputs_hidden": false
        },
        "id": "BuHs3LZumjFa",
        "colab": {
          "base_uri": "https://localhost:8080/"
        },
        "outputId": "88bd1e7a-c163-4e3e-87c2-2ab5ad25ec84"
      },
      "outputs": [
        {
          "output_type": "stream",
          "name": "stdout",
          "text": [
            "1574\n",
            "16\n",
            "7104700\n"
          ]
        }
      ],
      "execution_count": 10
    },
    {
      "cell_type": "code",
      "source": [
        "# Fill 'position' with 'FBall' when 'displayName_x' is 'football'\n",
        "pred_df.loc[pred_df['displayName'] == 'football', 'position'] = 'FBall'\n",
        "\n",
        "# Filter pred_df for specific events and positions\n",
        "filtered_pred_df = pred_df[(pred_df['event'] == 'ball_snap')]  # testing something here\n",
        "filtered_pred_df = filtered_pred_df[filtered_pred_df['position'].isin(['TE', 'WR', 'FB', 'RB', 'QB', 'FBall'])]\n",
        "\n",
        "# Create new feature identifying if the home team has possession\n",
        "filtered_pred_df['homeTeamPossession'] = (filtered_pred_df['possessionTeam'] == filtered_pred_df['homeTeamAbbr']).astype(int)\n",
        "\n",
        "# Drop uneeded columns\n",
        "filtered_pred_df = filtered_pred_df.drop(columns=['displayName', 'possessionTeam', 'homeTeamAbbr'])\n",
        "\n",
        "# Display the first few rows of the filtered DataFrame\n",
        "print(filtered_pred_df.head())"
      ],
      "metadata": {
        "_uuid": "ada5d8cd-27ce-437b-bf36-3f5970f9f2ac",
        "_cell_guid": "ddb71184-9fc8-4250-9120-a86be2d375a8",
        "trusted": true,
        "execution": {
          "iopub.status.busy": "2024-11-24T00:34:22.227350Z",
          "iopub.execute_input": "2024-11-24T00:34:22.227970Z",
          "iopub.status.idle": "2024-11-24T00:34:23.250159Z",
          "shell.execute_reply.started": "2024-11-24T00:34:22.227911Z",
          "shell.execute_reply": "2024-11-24T00:34:23.248314Z"
        },
        "jupyter": {
          "outputs_hidden": false
        },
        "id": "XAV8cgLCmjFa",
        "colab": {
          "base_uri": "https://localhost:8080/"
        },
        "outputId": "a882fc28-0f74-46ba-9009-faabedd08119"
      },
      "outputs": [
        {
          "output_type": "stream",
          "name": "stdout",
          "text": [
            "         gameId  playId rushLocationType  quarter  down  yardsToGo gameClock  \\\n",
            "128  2022090800    1406     INSIDE_RIGHT        2     1          7     03:42   \n",
            "340  2022090800    1406     INSIDE_RIGHT        2     1          7     03:42   \n",
            "360  2022090800    1406     INSIDE_RIGHT        2     1          7     03:42   \n",
            "364  2022090800    1406     INSIDE_RIGHT        2     1          7     03:42   \n",
            "556  2022090800    1406     INSIDE_RIGHT        2     1          7     03:42   \n",
            "\n",
            "     preSnapHomeScore  preSnapVisitorScore  absoluteYardlineNumber  \\\n",
            "128                 0                   10                      17   \n",
            "340                 0                   10                      17   \n",
            "360                 0                   10                      17   \n",
            "364                 0                   10                      17   \n",
            "556                 0                   10                      17   \n",
            "\n",
            "     preSnapHomeTeamWinProbability  preSnapVisitorTeamWinProbability  \\\n",
            "128                       0.263124                          0.736876   \n",
            "340                       0.263124                          0.736876   \n",
            "360                       0.263124                          0.736876   \n",
            "364                       0.263124                          0.736876   \n",
            "556                       0.263124                          0.736876   \n",
            "\n",
            "     expectedPoints offenseFormation receiverAlignment pff_passCoverage  \\\n",
            "128        5.490634       SINGLEBACK               3x1         Red Zone   \n",
            "340        5.490634       SINGLEBACK               3x1         Red Zone   \n",
            "360        5.490634       SINGLEBACK               3x1         Red Zone   \n",
            "364        5.490634       SINGLEBACK               3x1         Red Zone   \n",
            "556        5.490634       SINGLEBACK               3x1         Red Zone   \n",
            "\n",
            "    pff_manZone  nflId      x      y      event position inMotionAtBallSnap  \\\n",
            "128       Other  47853  24.21  23.56  ball_snap       RB              FALSE   \n",
            "340       Other  41290  17.67   9.53  ball_snap       WR              FALSE   \n",
            "360       Other  34452  18.65  23.35  ball_snap       QB              FALSE   \n",
            "364       Other  53678  19.10  30.45  ball_snap       WR              FALSE   \n",
            "556       Other  43399  18.41  28.38  ball_snap       TE              FALSE   \n",
            "\n",
            "    shiftSinceLineset motionSinceLineset    gameDate gameTimeEastern  \\\n",
            "128             FALSE              FALSE  2022-09-08        20:20:00   \n",
            "340             FALSE              FALSE  2022-09-08        20:20:00   \n",
            "360             FALSE              FALSE  2022-09-08        20:20:00   \n",
            "364             FALSE              FALSE  2022-09-08        20:20:00   \n",
            "556             FALSE              FALSE  2022-09-08        20:20:00   \n",
            "\n",
            "     homeTeamPossession  \n",
            "128                   1  \n",
            "340                   1  \n",
            "360                   1  \n",
            "364                   1  \n",
            "556                   1  \n"
          ]
        }
      ],
      "execution_count": 11
    },
    {
      "cell_type": "code",
      "source": [
        "cols = ['event', 'rushLocationType', 'position', 'receiverAlignment', 'offenseFormation', 'inMotionAtBallSnap', 'shiftSinceLineset', 'motionSinceLineset']\n",
        "\n",
        "for i in cols:\n",
        "    print(filtered_pred_df[i].value_counts())"
      ],
      "metadata": {
        "_uuid": "70533dd4-83b4-48b9-9f5a-0566f879f4a4",
        "_cell_guid": "c3847c69-f8e0-48f5-a4e4-3b1c1457a250",
        "trusted": true,
        "execution": {
          "iopub.status.busy": "2024-11-24T00:34:23.252122Z",
          "iopub.execute_input": "2024-11-24T00:34:23.252560Z",
          "iopub.status.idle": "2024-11-24T00:34:23.286866Z",
          "shell.execute_reply.started": "2024-11-24T00:34:23.252510Z",
          "shell.execute_reply": "2024-11-24T00:34:23.285643Z"
        },
        "jupyter": {
          "outputs_hidden": false
        },
        "id": "1wiiJ9pHmjFa",
        "colab": {
          "base_uri": "https://localhost:8080/"
        },
        "outputId": "65b311a1-47a8-4c01-b212-269b4a949215"
      },
      "outputs": [
        {
          "output_type": "stream",
          "name": "stdout",
          "text": [
            "event\n",
            "ball_snap    13601\n",
            "Name: count, dtype: int64\n",
            "rushLocationType\n",
            "NA               8117\n",
            "INSIDE_LEFT      1495\n",
            "INSIDE_RIGHT     1481\n",
            "OUTSIDE_RIGHT    1274\n",
            "OUTSIDE_LEFT     1094\n",
            "UNKNOWN           140\n",
            "Name: count, dtype: int64\n",
            "position\n",
            "WR       4998\n",
            "TE       2500\n",
            "RB       1989\n",
            "QB       1963\n",
            "FBall    1948\n",
            "FB        203\n",
            "Name: count, dtype: int64\n",
            "receiverAlignment\n",
            "2x2    5817\n",
            "3x1    4942\n",
            "2x1    1453\n",
            "3x2     896\n",
            "NA      196\n",
            "4x1     147\n",
            "1x1      96\n",
            "2x0      36\n",
            "1x0      18\n",
            "Name: count, dtype: int64\n",
            "offenseFormation\n",
            "SHOTGUN       7636\n",
            "SINGLEBACK    3197\n",
            "EMPTY         1036\n",
            "I_FORM         926\n",
            "PISTOL         553\n",
            "NA             196\n",
            "JUMBO           57\n",
            "Name: count, dtype: int64\n",
            "inMotionAtBallSnap\n",
            "FALSE    10688\n",
            "TRUE       661\n",
            "NA         304\n",
            "Name: count, dtype: int64\n",
            "shiftSinceLineset\n",
            "FALSE    11496\n",
            "TRUE       157\n",
            "Name: count, dtype: int64\n",
            "motionSinceLineset\n",
            "FALSE    9915\n",
            "TRUE     1424\n",
            "NA        314\n",
            "Name: count, dtype: int64\n"
          ]
        }
      ],
      "execution_count": 12
    },
    {
      "cell_type": "code",
      "source": [
        "import numpy as np\n",
        "\n",
        "# Create the target column\n",
        "filtered_pred_df['target_rush'] = np.where(filtered_pred_df['rushLocationType'].notna(), 1, 0)\n",
        "\n",
        "# Convert string booleans and other invalid values to integers robustly\n",
        "columns_to_convert = ['inMotionAtBallSnap', 'shiftSinceLineset', 'motionSinceLineset']\n",
        "for col in columns_to_convert:\n",
        "    filtered_pred_df[col] = (\n",
        "        pd.to_numeric(filtered_pred_df[col], errors='coerce')  # Convert invalid entries to NaN\n",
        "        .fillna(0)                                            # Replace NaN with 0\n",
        "        .astype(int)                                          # Convert to integer\n",
        "    )\n",
        "\n",
        "if filtered_pred_df is None:\n",
        "    raise ValueError(\"filtered_pred_df is None. Check previous operations.\")\n",
        "\n",
        "# Step 1: Create new columns for 'inMotionAtBallSnap'\n",
        "positions = ['RB', 'FB', 'WR', 'TE']\n",
        "for pos in positions:\n",
        "    col_name = f\"{pos.lower()}_snap_motion\"  # Column name for inMotionAtBallSnap\n",
        "    filtered_pred_df[col_name] = (filtered_pred_df['position'] == pos).astype(int) * filtered_pred_df['inMotionAtBallSnap']\n",
        "\n",
        "# Step 2: Create new columns for 'shiftSinceLineset' (including 'QB')\n",
        "positions_with_qb = ['RB', 'FB', 'WR', 'TE', 'QB']\n",
        "for pos in positions_with_qb:\n",
        "    col_name = f\"{pos.lower()}_shift\"  # Column name for shiftSinceLineset\n",
        "    filtered_pred_df[col_name] = (filtered_pred_df['position'] == pos).astype(int) * filtered_pred_df['shiftSinceLineset']\n",
        "\n",
        "# Step 3: Create new columns for 'motionSinceLineset'\n",
        "for pos in positions:\n",
        "    col_name = f\"{pos.lower()}_motion\"  # Column name for motionSinceLineset\n",
        "    filtered_pred_df[col_name] = (filtered_pred_df['position'] == pos).astype(int) * filtered_pred_df['motionSinceLineset']\n",
        "\n",
        "# Verify the result\n",
        "print(filtered_pred_df[[\n",
        "    'position',\n",
        "    'rb_snap_motion', 'fb_snap_motion', 'wr_snap_motion', 'te_snap_motion',\n",
        "    'rb_shift', 'fb_shift', 'wr_shift', 'te_shift', 'qb_shift',\n",
        "    'rb_motion', 'fb_motion', 'wr_motion', 'te_motion'\n",
        "]].head())"
      ],
      "metadata": {
        "_uuid": "8996a09d-f28f-4695-932d-767cf8b5c537",
        "_cell_guid": "b8612f2c-76d9-4d8d-aa69-6bc35ff6bcbd",
        "trusted": true,
        "execution": {
          "iopub.status.busy": "2024-11-24T00:34:23.288407Z",
          "iopub.execute_input": "2024-11-24T00:34:23.289701Z",
          "iopub.status.idle": "2024-11-24T00:34:23.363901Z",
          "shell.execute_reply.started": "2024-11-24T00:34:23.289623Z",
          "shell.execute_reply": "2024-11-24T00:34:23.362639Z"
        },
        "jupyter": {
          "outputs_hidden": false
        },
        "id": "xCYTCkgDmjFa",
        "colab": {
          "base_uri": "https://localhost:8080/"
        },
        "outputId": "c817d893-21b2-40df-ea50-4811165fb806"
      },
      "outputs": [
        {
          "output_type": "stream",
          "name": "stdout",
          "text": [
            "    position  rb_snap_motion  fb_snap_motion  wr_snap_motion  te_snap_motion  \\\n",
            "128       RB               0               0               0               0   \n",
            "340       WR               0               0               0               0   \n",
            "360       QB               0               0               0               0   \n",
            "364       WR               0               0               0               0   \n",
            "556       TE               0               0               0               0   \n",
            "\n",
            "     rb_shift  fb_shift  wr_shift  te_shift  qb_shift  rb_motion  fb_motion  \\\n",
            "128         0         0         0         0         0          0          0   \n",
            "340         0         0         0         0         0          0          0   \n",
            "360         0         0         0         0         0          0          0   \n",
            "364         0         0         0         0         0          0          0   \n",
            "556         0         0         0         0         0          0          0   \n",
            "\n",
            "     wr_motion  te_motion  \n",
            "128          0          0  \n",
            "340          0          0  \n",
            "360          0          0  \n",
            "364          0          0  \n",
            "556          0          0  \n"
          ]
        }
      ],
      "execution_count": 13
    },
    {
      "cell_type": "code",
      "source": [
        "import numpy as np\n",
        "\n",
        "# Step 2: Filter for rows where the event is 'ball_snap' (only keep plays where the ball was snapped)\n",
        "ball_snap_df = filtered_pred_df[filtered_pred_df['event'] == 'ball_snap']\n",
        "\n",
        "# Step 3: Drop the 'event' column now that we have filtered for 'ball_snap'\n",
        "ball_snap_df = ball_snap_df.drop(columns=['event'])\n",
        "\n",
        "# Step 4: Identify FBall x-coordinates for each playId (filtered to ball_snap plays)\n",
        "fb_positions = ball_snap_df[ball_snap_df['position'] == 'FBall'][['gameId', 'playId', 'x']].rename(columns={'x': 'x_fball'})\n",
        "ball_snap_df = ball_snap_df.merge(fb_positions, on=['gameId', 'playId'], how='left')\n",
        "\n",
        "# Step 5: Calculate absolute x distances for QB, RB, and FB relative to FBall's x-coordinate\n",
        "ball_snap_df['qb_depth'] = np.where(ball_snap_df['position'] == 'QB', abs(ball_snap_df['x'] - ball_snap_df['x_fball']), np.nan)\n",
        "ball_snap_df['rb_depth'] = np.where(ball_snap_df['position'] == 'RB', abs(ball_snap_df['x'] - ball_snap_df['x_fball']), np.nan)\n",
        "ball_snap_df['fb_depth'] = np.where(ball_snap_df['position'] == 'FB', abs(ball_snap_df['x'] - ball_snap_df['x_fball']), np.nan)\n",
        "\n",
        "# Step 6: Group by 'gameId' and 'playId' to aggregate, keeping max and first values as specified\n",
        "columns_to_aggregate_max = [\n",
        "    'rb_snap_motion', 'fb_snap_motion', 'wr_snap_motion', 'te_snap_motion',\n",
        "    'rb_shift', 'fb_shift', 'wr_shift', 'te_shift', 'qb_shift',\n",
        "    'rb_motion', 'fb_motion', 'wr_motion', 'te_motion',\n",
        "    'qb_depth', 'rb_depth', 'fb_depth', 'target_rush'\n",
        "]\n",
        "\n",
        "columns_to_aggregate_first = [\n",
        "    'quarter', 'down', 'yardsToGo', 'gameClock', 'preSnapHomeScore', 'preSnapVisitorScore',\n",
        "    'absoluteYardlineNumber', 'preSnapHomeTeamWinProbability',\n",
        "    'preSnapVisitorTeamWinProbability', 'expectedPoints', 'offenseFormation',\n",
        "    'receiverAlignment', 'pff_passCoverage', 'pff_manZone'\n",
        "]\n",
        "\n",
        "# Aggregate the data\n",
        "aggregated_df_final = ball_snap_df.groupby(['gameId', 'playId'], as_index=False).agg(\n",
        "    {**{col: 'max' for col in columns_to_aggregate_max},\n",
        "     **{col: 'first' for col in columns_to_aggregate_first}}\n",
        ")\n",
        "\n",
        "# Verify the results\n",
        "print(aggregated_df_final.head())\n",
        "print(\"Number of unique playId combinations with ball snap:\", aggregated_df_final[['gameId', 'playId']].drop_duplicates().shape[0])\n",
        "print(len(aggregated_df_final))\n",
        "print(aggregated_df_final['target_rush'].value_counts())"
      ],
      "metadata": {
        "_uuid": "9b13485d-575a-4f77-9ae2-9a41256de766",
        "_cell_guid": "88963368-ea16-4f5d-8268-7574e8bce1a6",
        "trusted": true,
        "execution": {
          "iopub.status.busy": "2024-11-24T00:34:23.370413Z",
          "iopub.execute_input": "2024-11-24T00:34:23.370973Z",
          "iopub.status.idle": "2024-11-24T00:34:23.460155Z",
          "shell.execute_reply.started": "2024-11-24T00:34:23.370923Z",
          "shell.execute_reply": "2024-11-24T00:34:23.458793Z"
        },
        "jupyter": {
          "outputs_hidden": false
        },
        "id": "aFf1p37RmjFb",
        "colab": {
          "base_uri": "https://localhost:8080/"
        },
        "outputId": "0a1a5515-2945-40bb-e002-e80d5e15fd86"
      },
      "outputs": [
        {
          "output_type": "stream",
          "name": "stdout",
          "text": [
            "       gameId  playId  rb_snap_motion  fb_snap_motion  wr_snap_motion  \\\n",
            "0  2022090800      56               0               0               0   \n",
            "1  2022090800      80               0               0               0   \n",
            "2  2022090800     101               0               0               0   \n",
            "3  2022090800     122               0               0               0   \n",
            "4  2022090800     167               0               0               0   \n",
            "\n",
            "   te_snap_motion  rb_shift  fb_shift  wr_shift  te_shift  qb_shift  \\\n",
            "0               0         0         0         0         0         0   \n",
            "1               0         0         0         0         0         0   \n",
            "2               0         0         0         0         0         0   \n",
            "3               0         0         0         0         0         0   \n",
            "4               0         0         0         0         0         0   \n",
            "\n",
            "   rb_motion  fb_motion  wr_motion  te_motion  qb_depth  rb_depth  fb_depth  \\\n",
            "0          0          0          0          0  4.929996  4.849996       NaN   \n",
            "1          0          0          0          0  5.169998  6.499998       NaN   \n",
            "2          0          0          0          0  1.509999  7.559999  2.569999   \n",
            "3          0          0          0          0  5.029998  4.779998       NaN   \n",
            "4          0          0          0          0  4.920002  2.430002       NaN   \n",
            "\n",
            "   target_rush  quarter  down  yardsToGo gameClock  preSnapHomeScore  \\\n",
            "0            1        1     1         10     15:00                 0   \n",
            "1            1        1     2          4     14:29                 0   \n",
            "2            1        1     1         10     13:54                 0   \n",
            "3            1        1     2          3     13:15                 0   \n",
            "4            1        1     2          8     11:54                 0   \n",
            "\n",
            "   preSnapVisitorScore  absoluteYardlineNumber  preSnapHomeTeamWinProbability  \\\n",
            "0                    0                      85                       0.413347   \n",
            "1                    0                      79                       0.413316   \n",
            "2                    0                      72                       0.399819   \n",
            "3                    0                      65                       0.384969   \n",
            "4                    0                      57                       0.387554   \n",
            "\n",
            "   preSnapVisitorTeamWinProbability  expectedPoints offenseFormation  \\\n",
            "0                          0.586653        1.298699          SHOTGUN   \n",
            "1                          0.586684        1.303119            EMPTY   \n",
            "2                          0.600181        2.126690           I_FORM   \n",
            "3                          0.615031        2.689053          SHOTGUN   \n",
            "4                          0.612446        2.574206            EMPTY   \n",
            "\n",
            "  receiverAlignment pff_passCoverage pff_manZone  \n",
            "0               2x2     Cover 6-Left        Zone  \n",
            "1               3x2     Cover 6-Left        Zone  \n",
            "2               2x1    Cover-6 Right        Zone  \n",
            "3               2x1          Cover-3        Zone  \n",
            "4               3x2          Cover-3        Zone  \n",
            "Number of unique playId combinations with ball snap: 1948\n",
            "1948\n",
            "target_rush\n",
            "1    1948\n",
            "Name: count, dtype: int64\n"
          ]
        }
      ],
      "execution_count": 14
    },
    {
      "cell_type": "code",
      "source": [
        "# Fill missing depth values with zero without using inplace\n",
        "aggregated_df_final['fb_depth'] = aggregated_df_final['fb_depth'].fillna(0)\n",
        "aggregated_df_final['rb_depth'] = aggregated_df_final['rb_depth'].fillna(0)\n",
        "aggregated_df_final['qb_depth'] = aggregated_df_final['qb_depth'].fillna(0)\n",
        "\n",
        "# Add binary indicators for FB and RB presence\n",
        "aggregated_df_final['fb_present'] = (aggregated_df_final['fb_depth'] > 0).astype(int)\n",
        "aggregated_df_final['rb_present'] = (aggregated_df_final['rb_depth'] > 0).astype(int)\n",
        "\n",
        "print(aggregated_df_final.head())"
      ],
      "metadata": {
        "_uuid": "7ab1dafa-aa48-4dba-bcd8-ec8473b47c49",
        "_cell_guid": "c1a1b04a-ed44-4269-9a7c-17d9f16b4228",
        "trusted": true,
        "execution": {
          "iopub.status.busy": "2024-11-24T00:34:23.461511Z",
          "iopub.execute_input": "2024-11-24T00:34:23.462138Z",
          "iopub.status.idle": "2024-11-24T00:34:23.489666Z",
          "shell.execute_reply.started": "2024-11-24T00:34:23.462102Z",
          "shell.execute_reply": "2024-11-24T00:34:23.487254Z"
        },
        "jupyter": {
          "outputs_hidden": false
        },
        "id": "9i4hjIommjFb",
        "colab": {
          "base_uri": "https://localhost:8080/"
        },
        "outputId": "3250696d-b58d-4e13-ad83-75dce6120b74"
      },
      "outputs": [
        {
          "output_type": "stream",
          "name": "stdout",
          "text": [
            "       gameId  playId  rb_snap_motion  fb_snap_motion  wr_snap_motion  \\\n",
            "0  2022090800      56               0               0               0   \n",
            "1  2022090800      80               0               0               0   \n",
            "2  2022090800     101               0               0               0   \n",
            "3  2022090800     122               0               0               0   \n",
            "4  2022090800     167               0               0               0   \n",
            "\n",
            "   te_snap_motion  rb_shift  fb_shift  wr_shift  te_shift  qb_shift  \\\n",
            "0               0         0         0         0         0         0   \n",
            "1               0         0         0         0         0         0   \n",
            "2               0         0         0         0         0         0   \n",
            "3               0         0         0         0         0         0   \n",
            "4               0         0         0         0         0         0   \n",
            "\n",
            "   rb_motion  fb_motion  wr_motion  te_motion  qb_depth  rb_depth  fb_depth  \\\n",
            "0          0          0          0          0  4.929996  4.849996  0.000000   \n",
            "1          0          0          0          0  5.169998  6.499998  0.000000   \n",
            "2          0          0          0          0  1.509999  7.559999  2.569999   \n",
            "3          0          0          0          0  5.029998  4.779998  0.000000   \n",
            "4          0          0          0          0  4.920002  2.430002  0.000000   \n",
            "\n",
            "   target_rush  quarter  down  yardsToGo gameClock  preSnapHomeScore  \\\n",
            "0            1        1     1         10     15:00                 0   \n",
            "1            1        1     2          4     14:29                 0   \n",
            "2            1        1     1         10     13:54                 0   \n",
            "3            1        1     2          3     13:15                 0   \n",
            "4            1        1     2          8     11:54                 0   \n",
            "\n",
            "   preSnapVisitorScore  absoluteYardlineNumber  preSnapHomeTeamWinProbability  \\\n",
            "0                    0                      85                       0.413347   \n",
            "1                    0                      79                       0.413316   \n",
            "2                    0                      72                       0.399819   \n",
            "3                    0                      65                       0.384969   \n",
            "4                    0                      57                       0.387554   \n",
            "\n",
            "   preSnapVisitorTeamWinProbability  expectedPoints offenseFormation  \\\n",
            "0                          0.586653        1.298699          SHOTGUN   \n",
            "1                          0.586684        1.303119            EMPTY   \n",
            "2                          0.600181        2.126690           I_FORM   \n",
            "3                          0.615031        2.689053          SHOTGUN   \n",
            "4                          0.612446        2.574206            EMPTY   \n",
            "\n",
            "  receiverAlignment pff_passCoverage pff_manZone  fb_present  rb_present  \n",
            "0               2x2     Cover 6-Left        Zone           0           1  \n",
            "1               3x2     Cover 6-Left        Zone           0           1  \n",
            "2               2x1    Cover-6 Right        Zone           1           1  \n",
            "3               2x1          Cover-3        Zone           0           1  \n",
            "4               3x2          Cover-3        Zone           0           1  \n"
          ]
        }
      ],
      "execution_count": 15
    },
    {
      "cell_type": "code",
      "source": [
        "# Check for duplicate gameId and playId pairs\n",
        "duplicate_pairs = aggregated_df_final[aggregated_df_final.duplicated(subset=['gameId', 'playId'], keep=False)]\n",
        "\n",
        "# Count duplicates\n",
        "print(f\"Number of duplicate records: {len(duplicate_pairs)}\")\n",
        "\n",
        "# Display the duplicate pairs\n",
        "print(duplicate_pairs[['gameId', 'playId']].value_counts())"
      ],
      "metadata": {
        "_uuid": "cfff0a89-44d7-4130-ba85-635593e2c65f",
        "_cell_guid": "313352d0-a6f9-4740-a108-1f7ca5f5aba5",
        "trusted": true,
        "execution": {
          "iopub.status.busy": "2024-11-24T00:34:23.491554Z",
          "iopub.execute_input": "2024-11-24T00:34:23.492006Z",
          "iopub.status.idle": "2024-11-24T00:34:23.513671Z",
          "shell.execute_reply.started": "2024-11-24T00:34:23.491972Z",
          "shell.execute_reply": "2024-11-24T00:34:23.512385Z"
        },
        "jupyter": {
          "outputs_hidden": false
        },
        "id": "V5wfX65wmjFc",
        "colab": {
          "base_uri": "https://localhost:8080/"
        },
        "outputId": "57b402a6-4950-43f5-b5a8-1fe4cfd6f27b"
      },
      "outputs": [
        {
          "output_type": "stream",
          "name": "stdout",
          "text": [
            "Number of duplicate records: 0\n",
            "Series([], Name: count, dtype: int64)\n"
          ]
        }
      ],
      "execution_count": 16
    },
    {
      "cell_type": "markdown",
      "source": [
        "## Modeling Preprocessing"
      ],
      "metadata": {
        "_uuid": "f2d23c60-5d33-43b1-8667-e1dceb2e347e",
        "_cell_guid": "b42b3395-c201-4513-8edf-9f49eb2d7b40",
        "trusted": true,
        "collapsed": false,
        "jupyter": {
          "outputs_hidden": false
        },
        "id": "hQDWe8GjmjFc"
      }
    },
    {
      "cell_type": "code",
      "source": [
        "!pip install xgboost scikit-learn bayesian-optimization"
      ],
      "metadata": {
        "_uuid": "1987f97d-b77c-4d95-983b-02420eec2f5d",
        "_cell_guid": "db4f827b-4b0e-4902-b412-c99fa032883e",
        "trusted": true,
        "execution": {
          "iopub.status.busy": "2024-11-24T00:34:23.514975Z",
          "iopub.execute_input": "2024-11-24T00:34:23.515302Z",
          "iopub.status.idle": "2024-11-24T00:34:23.519882Z",
          "shell.execute_reply.started": "2024-11-24T00:34:23.515268Z",
          "shell.execute_reply": "2024-11-24T00:34:23.518629Z"
        },
        "jupyter": {
          "outputs_hidden": false
        },
        "id": "3KfMUqpWmjFc",
        "colab": {
          "base_uri": "https://localhost:8080/"
        },
        "outputId": "9068419f-fccc-4a17-a984-c9ea7fed830f"
      },
      "outputs": [
        {
          "output_type": "stream",
          "name": "stdout",
          "text": [
            "Requirement already satisfied: xgboost in /usr/local/lib/python3.10/dist-packages (2.1.2)\n",
            "Requirement already satisfied: scikit-learn in /usr/local/lib/python3.10/dist-packages (1.5.2)\n",
            "Requirement already satisfied: bayesian-optimization in /usr/local/lib/python3.10/dist-packages (2.0.0)\n",
            "Requirement already satisfied: numpy in /usr/local/lib/python3.10/dist-packages (from xgboost) (1.26.4)\n",
            "Requirement already satisfied: nvidia-nccl-cu12 in /usr/local/lib/python3.10/dist-packages (from xgboost) (2.23.4)\n",
            "Requirement already satisfied: scipy in /usr/local/lib/python3.10/dist-packages (from xgboost) (1.13.1)\n",
            "Requirement already satisfied: joblib>=1.2.0 in /usr/local/lib/python3.10/dist-packages (from scikit-learn) (1.4.2)\n",
            "Requirement already satisfied: threadpoolctl>=3.1.0 in /usr/local/lib/python3.10/dist-packages (from scikit-learn) (3.5.0)\n",
            "Requirement already satisfied: colorama<0.5.0,>=0.4.6 in /usr/local/lib/python3.10/dist-packages (from bayesian-optimization) (0.4.6)\n"
          ]
        }
      ],
      "execution_count": 17
    },
    {
      "cell_type": "code",
      "source": [
        "from sklearn.preprocessing import LabelEncoder\n",
        "\n",
        "# Encode categorical features\n",
        "le_offenseFormation = LabelEncoder()\n",
        "le_receiverAlignment = LabelEncoder()\n",
        "le_pff_passCoverage = LabelEncoder()\n",
        "le_pff_manZone = LabelEncoder()\n",
        "\n",
        "# Apply label encoding to the relevant columns\n",
        "aggregated_df_final['offenseFormation'] = le_offenseFormation.fit_transform(aggregated_df_final['offenseFormation'])\n",
        "aggregated_df_final['receiverAlignment'] = le_receiverAlignment.fit_transform(aggregated_df_final['receiverAlignment'])\n",
        "aggregated_df_final['pff_passCoverage'] = le_pff_passCoverage.fit_transform(aggregated_df_final['pff_passCoverage'])\n",
        "aggregated_df_final['pff_manZone'] = le_pff_manZone.fit_transform(aggregated_df_final['pff_manZone'])\n",
        "\n",
        "X_encoded = pd.get_dummies(aggregated_df_final, columns=['offenseFormation', 'receiverAlignment', 'pff_passCoverage', 'pff_manZone'], drop_first=True)\n",
        "\n",
        "# Feature and target separation\n",
        "X = aggregated_df_final.drop(columns=['target_rush', 'gameId', 'playId'])\n",
        "y = aggregated_df_final['target_rush'].astype(int)\n",
        "\n",
        "# Verify the encoded DataFrame\n",
        "print(aggregated_df_final[['offenseFormation', 'receiverAlignment', 'pff_passCoverage', 'pff_manZone']].head())"
      ],
      "metadata": {
        "_uuid": "e6ae1cbf-400e-438b-a3a3-367bcc789816",
        "_cell_guid": "d9807841-7ba2-4503-adf7-88db8f2dce69",
        "trusted": true,
        "execution": {
          "iopub.status.busy": "2024-11-24T00:34:23.521763Z",
          "iopub.execute_input": "2024-11-24T00:34:23.522231Z",
          "iopub.status.idle": "2024-11-24T00:34:23.533083Z",
          "shell.execute_reply.started": "2024-11-24T00:34:23.522173Z",
          "shell.execute_reply": "2024-11-24T00:34:23.531647Z"
        },
        "jupyter": {
          "outputs_hidden": false
        },
        "id": "Wk6fmDw-mjFc",
        "colab": {
          "base_uri": "https://localhost:8080/"
        },
        "outputId": "d6bb1976-b4ed-47ce-e7af-1e24577e49cf"
      },
      "outputs": [
        {
          "output_type": "stream",
          "name": "stdout",
          "text": [
            "   offenseFormation  receiverAlignment  pff_passCoverage  pff_manZone\n",
            "0                 5                  4                 2            3\n",
            "1                 0                  6                 2            3\n",
            "2                 1                  3                11            3\n",
            "3                 5                  3                 6            3\n",
            "4                 0                  6                 6            3\n"
          ]
        }
      ],
      "execution_count": 18
    },
    {
      "cell_type": "code",
      "source": [
        "import pandas as pd\n",
        "from sklearn.preprocessing import StandardScaler\n",
        "\n",
        "# Identify continuous columns to scale\n",
        "columns_to_scale = [\n",
        "    'qb_depth', 'rb_depth', 'fb_depth',\n",
        "    'preSnapHomeTeamWinProbability', 'preSnapVisitorTeamWinProbability',\n",
        "    'expectedPoints', 'absoluteYardlineNumber',\n",
        "    'preSnapHomeScore', 'preSnapVisitorScore'\n",
        "]\n",
        "\n",
        "# Initialize scaler\n",
        "scaler = StandardScaler()\n",
        "\n",
        "# Scale the selected continuous columns\n",
        "aggregated_df_final[columns_to_scale] = scaler.fit_transform(aggregated_df_final[columns_to_scale])\n"
      ],
      "metadata": {
        "_uuid": "21cfcc12-9038-4491-b6e6-9af01eedd83a",
        "_cell_guid": "7de32633-677f-4ab9-bcaf-7fce23267f6a",
        "trusted": true,
        "execution": {
          "iopub.status.busy": "2024-11-24T00:34:23.535875Z",
          "iopub.execute_input": "2024-11-24T00:34:23.537167Z",
          "iopub.status.idle": "2024-11-24T00:34:23.585658Z",
          "shell.execute_reply.started": "2024-11-24T00:34:23.537028Z",
          "shell.execute_reply": "2024-11-24T00:34:23.584153Z"
        },
        "jupyter": {
          "outputs_hidden": false
        },
        "id": "q7rDnDRAmjFd"
      },
      "outputs": [],
      "execution_count": 19
    },
    {
      "cell_type": "code",
      "source": [
        "from google.cloud import bigquery\n",
        "from google.oauth2 import service_account\n",
        "import pandas_gbq\n",
        "\n",
        "# Define project ID, dataset, and table\n",
        "project_id = 'bigdatabowl2025'  # Replace with your project ID\n",
        "dataset_id = 'bdb_tables'  # Replace with your dataset ID\n",
        "table_id = f\"{dataset_id}.aggregated_final_data\"  # Full table path\n",
        "\n",
        "# Save DataFrame to BigQuery\n",
        "pandas_gbq.to_gbq(\n",
        "    aggregated_df_final,\n",
        "    table_id,\n",
        "    project_id=project_id,\n",
        "    if_exists='replace'  # Options: 'fail', 'replace', 'append'\n",
        ")\n"
      ],
      "metadata": {
        "colab": {
          "base_uri": "https://localhost:8080/"
        },
        "id": "E2ifmtEfuJEc",
        "outputId": "92ac8f3f-fb0c-4258-81b6-ed8baba7e8bc"
      },
      "execution_count": 20,
      "outputs": [
        {
          "output_type": "stream",
          "name": "stdout",
          "text": [
            "WARNING: google.colab.auth.authenticate_user() is not supported in Colab Enterprise.\n"
          ]
        },
        {
          "output_type": "stream",
          "name": "stderr",
          "text": [
            "100%|██████████| 1/1 [00:00<00:00, 7169.75it/s]\n"
          ]
        }
      ]
    },
    {
      "cell_type": "code",
      "source": [
        "# Save the DataFrame as a CSV file in Colab's file system\n",
        "aggregated_df_final.to_csv(\"aggregated_df_1.csv\", index=False)  # This was performed for weeks 1 through 9\n",
        "print(\"File saved as 'aggregated_df_1.csv'\")\n",
        "\n",
        "from google.colab import files\n",
        "\n",
        "# Download the file to your local computer\n",
        "files.download(\"aggregated_df_1.csv\")"
      ],
      "metadata": {
        "colab": {
          "base_uri": "https://localhost:8080/",
          "height": 35
        },
        "id": "sMjhNKBKu2g-",
        "outputId": "b3a427bc-16b0-4ef5-a9b0-2d04525c5498"
      },
      "execution_count": 22,
      "outputs": [
        {
          "output_type": "stream",
          "name": "stdout",
          "text": [
            "File saved as 'aggregated_df_1.csv'\n"
          ]
        },
        {
          "output_type": "display_data",
          "data": {
            "text/plain": [
              "<IPython.core.display.Javascript object>"
            ],
            "application/javascript": [
              "\n",
              "    async function download(id, filename, size) {\n",
              "      if (!google.colab.kernel.accessAllowed) {\n",
              "        return;\n",
              "      }\n",
              "      const div = document.createElement('div');\n",
              "      const label = document.createElement('label');\n",
              "      label.textContent = `Downloading \"${filename}\": `;\n",
              "      div.appendChild(label);\n",
              "      const progress = document.createElement('progress');\n",
              "      progress.max = size;\n",
              "      div.appendChild(progress);\n",
              "      document.body.appendChild(div);\n",
              "\n",
              "      const buffers = [];\n",
              "      let downloaded = 0;\n",
              "\n",
              "      const channel = await google.colab.kernel.comms.open(id);\n",
              "      // Send a message to notify the kernel that we're ready.\n",
              "      channel.send({})\n",
              "\n",
              "      for await (const message of channel.messages) {\n",
              "        // Send a message to notify the kernel that we're ready.\n",
              "        channel.send({})\n",
              "        if (message.buffers) {\n",
              "          for (const buffer of message.buffers) {\n",
              "            buffers.push(buffer);\n",
              "            downloaded += buffer.byteLength;\n",
              "            progress.value = downloaded;\n",
              "          }\n",
              "        }\n",
              "      }\n",
              "      const blob = new Blob(buffers, {type: 'application/binary'});\n",
              "      const a = document.createElement('a');\n",
              "      a.href = window.URL.createObjectURL(blob);\n",
              "      a.download = filename;\n",
              "      div.appendChild(a);\n",
              "      a.click();\n",
              "      div.remove();\n",
              "    }\n",
              "  "
            ]
          },
          "metadata": {}
        },
        {
          "output_type": "display_data",
          "data": {
            "text/plain": [
              "<IPython.core.display.Javascript object>"
            ],
            "application/javascript": [
              "download(\"download_5074d855-7c42-4d46-b0b5-2fa9fda2f2a9\", \"aggregated_df_1.csv\", 478080)"
            ]
          },
          "metadata": {}
        }
      ]
    }
  ]
}