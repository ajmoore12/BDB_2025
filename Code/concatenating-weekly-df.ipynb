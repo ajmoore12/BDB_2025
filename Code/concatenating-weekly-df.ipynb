{
  "metadata": {
    "kernelspec": {
      "language": "python",
      "display_name": "Python 3",
      "name": "python3"
    },
    "language_info": {
      "name": "python",
      "version": "3.10.14",
      "mimetype": "text/x-python",
      "codemirror_mode": {
        "name": "ipython",
        "version": 3
      },
      "pygments_lexer": "ipython3",
      "nbconvert_exporter": "python",
      "file_extension": ".py"
    },
    "kaggle": {
      "accelerator": "none",
      "dataSources": [
        {
          "sourceId": 9995342,
          "sourceType": "datasetVersion",
          "datasetId": 6151944
        }
      ],
      "dockerImageVersionId": 30804,
      "isInternetEnabled": true,
      "language": "python",
      "sourceType": "notebook",
      "isGpuEnabled": false
    },
    "colab": {
      "provenance": []
    }
  },
  "nbformat_minor": 0,
  "nbformat": 4,
  "cells": [
    {
      "cell_type": "code",
      "source": [
        "!pip install --upgrade pandas-gbq google-cloud-bigquery\n"
      ],
      "metadata": {
        "id": "2IUGBOXbWXti",
        "outputId": "bbb2ba88-97d3-48d9-8375-05585aceb7ac",
        "colab": {
          "base_uri": "https://localhost:8080/"
        }
      },
      "execution_count": 6,
      "outputs": [
        {
          "output_type": "stream",
          "name": "stdout",
          "text": [
            "Requirement already satisfied: pandas-gbq in /usr/local/lib/python3.10/dist-packages (0.26.0)\n",
            "Requirement already satisfied: google-cloud-bigquery in /usr/local/lib/python3.10/dist-packages (3.27.0)\n",
            "Requirement already satisfied: setuptools in /usr/local/lib/python3.10/dist-packages (from pandas-gbq) (75.1.0)\n",
            "Requirement already satisfied: db-dtypes<2.0.0,>=1.0.4 in /usr/local/lib/python3.10/dist-packages (from pandas-gbq) (1.3.1)\n",
            "Requirement already satisfied: numpy>=1.18.1 in /usr/local/lib/python3.10/dist-packages (from pandas-gbq) (1.26.4)\n",
            "Requirement already satisfied: pandas>=1.1.4 in /usr/local/lib/python3.10/dist-packages (from pandas-gbq) (2.2.2)\n",
            "Requirement already satisfied: pyarrow>=4.0.0 in /usr/local/lib/python3.10/dist-packages (from pandas-gbq) (17.0.0)\n",
            "Requirement already satisfied: pydata-google-auth>=1.5.0 in /usr/local/lib/python3.10/dist-packages (from pandas-gbq) (1.9.0)\n",
            "Requirement already satisfied: google-api-core<3.0.0dev,>=2.10.2 in /usr/local/lib/python3.10/dist-packages (from pandas-gbq) (2.19.2)\n",
            "Requirement already satisfied: google-auth>=2.13.0 in /usr/local/lib/python3.10/dist-packages (from pandas-gbq) (2.27.0)\n",
            "Requirement already satisfied: google-auth-oauthlib>=0.7.0 in /usr/local/lib/python3.10/dist-packages (from pandas-gbq) (1.2.1)\n",
            "Requirement already satisfied: packaging>=22.0.0 in /usr/local/lib/python3.10/dist-packages (from pandas-gbq) (24.2)\n",
            "Requirement already satisfied: google-cloud-core<3.0.0dev,>=2.4.1 in /usr/local/lib/python3.10/dist-packages (from google-cloud-bigquery) (2.4.1)\n",
            "Requirement already satisfied: google-resumable-media<3.0dev,>=2.0.0 in /usr/local/lib/python3.10/dist-packages (from google-cloud-bigquery) (2.7.2)\n",
            "Requirement already satisfied: python-dateutil<3.0dev,>=2.7.3 in /usr/local/lib/python3.10/dist-packages (from google-cloud-bigquery) (2.8.2)\n",
            "Requirement already satisfied: requests<3.0.0dev,>=2.21.0 in /usr/local/lib/python3.10/dist-packages (from google-cloud-bigquery) (2.32.3)\n",
            "Requirement already satisfied: googleapis-common-protos<2.0.dev0,>=1.56.2 in /usr/local/lib/python3.10/dist-packages (from google-api-core<3.0.0dev,>=2.10.2->pandas-gbq) (1.66.0)\n",
            "Requirement already satisfied: protobuf!=3.20.0,!=3.20.1,!=4.21.0,!=4.21.1,!=4.21.2,!=4.21.3,!=4.21.4,!=4.21.5,<6.0.0.dev0,>=3.19.5 in /usr/local/lib/python3.10/dist-packages (from google-api-core<3.0.0dev,>=2.10.2->pandas-gbq) (4.25.5)\n",
            "Requirement already satisfied: proto-plus<2.0.0dev,>=1.22.3 in /usr/local/lib/python3.10/dist-packages (from google-api-core<3.0.0dev,>=2.10.2->pandas-gbq) (1.25.0)\n",
            "Requirement already satisfied: grpcio<2.0dev,>=1.33.2 in /usr/local/lib/python3.10/dist-packages (from google-api-core[grpc]<3.0.0dev,>=2.11.1->google-cloud-bigquery) (1.68.1)\n",
            "Requirement already satisfied: grpcio-status<2.0.dev0,>=1.33.2 in /usr/local/lib/python3.10/dist-packages (from google-api-core[grpc]<3.0.0dev,>=2.11.1->google-cloud-bigquery) (1.62.3)\n",
            "Requirement already satisfied: cachetools<6.0,>=2.0.0 in /usr/local/lib/python3.10/dist-packages (from google-auth>=2.13.0->pandas-gbq) (5.5.0)\n",
            "Requirement already satisfied: pyasn1-modules>=0.2.1 in /usr/local/lib/python3.10/dist-packages (from google-auth>=2.13.0->pandas-gbq) (0.4.1)\n",
            "Requirement already satisfied: rsa<5,>=3.1.4 in /usr/local/lib/python3.10/dist-packages (from google-auth>=2.13.0->pandas-gbq) (4.9)\n",
            "Requirement already satisfied: requests-oauthlib>=0.7.0 in /usr/local/lib/python3.10/dist-packages (from google-auth-oauthlib>=0.7.0->pandas-gbq) (1.3.1)\n",
            "Requirement already satisfied: google-crc32c<2.0dev,>=1.0 in /usr/local/lib/python3.10/dist-packages (from google-resumable-media<3.0dev,>=2.0.0->google-cloud-bigquery) (1.6.0)\n",
            "Requirement already satisfied: pytz>=2020.1 in /usr/local/lib/python3.10/dist-packages (from pandas>=1.1.4->pandas-gbq) (2024.2)\n",
            "Requirement already satisfied: tzdata>=2022.7 in /usr/local/lib/python3.10/dist-packages (from pandas>=1.1.4->pandas-gbq) (2024.2)\n",
            "Requirement already satisfied: six>=1.5 in /usr/local/lib/python3.10/dist-packages (from python-dateutil<3.0dev,>=2.7.3->google-cloud-bigquery) (1.17.0)\n",
            "Requirement already satisfied: charset-normalizer<4,>=2 in /usr/local/lib/python3.10/dist-packages (from requests<3.0.0dev,>=2.21.0->google-cloud-bigquery) (3.4.0)\n",
            "Requirement already satisfied: idna<4,>=2.5 in /usr/local/lib/python3.10/dist-packages (from requests<3.0.0dev,>=2.21.0->google-cloud-bigquery) (3.10)\n",
            "Requirement already satisfied: urllib3<3,>=1.21.1 in /usr/local/lib/python3.10/dist-packages (from requests<3.0.0dev,>=2.21.0->google-cloud-bigquery) (2.2.3)\n",
            "Requirement already satisfied: certifi>=2017.4.17 in /usr/local/lib/python3.10/dist-packages (from requests<3.0.0dev,>=2.21.0->google-cloud-bigquery) (2024.12.14)\n",
            "Requirement already satisfied: pyasn1<0.7.0,>=0.4.6 in /usr/local/lib/python3.10/dist-packages (from pyasn1-modules>=0.2.1->google-auth>=2.13.0->pandas-gbq) (0.6.1)\n",
            "Requirement already satisfied: oauthlib>=3.0.0 in /usr/local/lib/python3.10/dist-packages (from requests-oauthlib>=0.7.0->google-auth-oauthlib>=0.7.0->pandas-gbq) (3.2.2)\n"
          ]
        }
      ]
    },
    {
      "cell_type": "code",
      "source": [
        "from google.colab import auth\n",
        "auth.authenticate_user()\n"
      ],
      "metadata": {
        "id": "Ym7z8xPoWeOS"
      },
      "execution_count": 7,
      "outputs": []
    },
    {
      "cell_type": "code",
      "source": [
        "import pandas as pd\n",
        "from google.cloud import bigquery\n",
        "\n",
        "project_id = \"bigdatabowl2025\"\n",
        "dataset_id = \"bdb_tables\"\n",
        "\n",
        "client = bigquery.Client(project=project_id)\n",
        "\n",
        "# List of table names\n",
        "week_tables = [\n",
        "    f\"{dataset_id}.aggregated_week1_df\",\n",
        "    f\"{dataset_id}.aggregated_week2_df\",\n",
        "    f\"{dataset_id}.aggregated_week3_df\",\n",
        "    f\"{dataset_id}.aggregated_week4_df\",\n",
        "    f\"{dataset_id}.aggregated_week5_df\",\n",
        "    f\"{dataset_id}.aggregated_week6_df\",\n",
        "    f\"{dataset_id}.aggregated_week7_df\",\n",
        "    f\"{dataset_id}.aggregated_week8_df\",\n",
        "    f\"{dataset_id}.aggregated_week9_df\",\n",
        "]\n",
        "\n",
        "# Load each table into a DataFrame and add a 'week' column\n",
        "dataframes = []\n",
        "for i, table in enumerate(week_tables, start=1):\n",
        "    query = f\"SELECT * FROM `{project_id}.{table}`\"\n",
        "    df = client.query(query).to_dataframe()\n",
        "    df['week'] = f\"week_{i}\"  # Add 'week' column\n",
        "    dataframes.append(df)\n",
        "\n",
        "# Concatenate all DataFrames\n",
        "final_df = pd.concat(dataframes, ignore_index=True)\n",
        "\n",
        "# Verify the final DataFrame\n",
        "print(final_df.head())\n",
        "print(f\"Final DataFrame shape: {final_df.shape}\")"
      ],
      "metadata": {
        "_uuid": "8f2839f25d086af736a60e9eeb907d3b93b6e0e5",
        "_cell_guid": "b1076dfc-b9ad-4769-8c92-a6c4dae69d19",
        "trusted": true,
        "execution": {
          "iopub.status.busy": "2024-12-06T22:08:52.038438Z",
          "iopub.execute_input": "2024-12-06T22:08:52.038830Z",
          "iopub.status.idle": "2024-12-06T22:08:52.188428Z",
          "shell.execute_reply.started": "2024-12-06T22:08:52.038799Z",
          "shell.execute_reply": "2024-12-06T22:08:52.187154Z"
        },
        "id": "jpEfwvTFVyES",
        "outputId": "b8b3b1bd-78f4-4cce-bf7b-ae564eac2354",
        "colab": {
          "base_uri": "https://localhost:8080/"
        }
      },
      "outputs": [
        {
          "output_type": "stream",
          "name": "stdout",
          "text": [
            "       gameId  playId  target_rush   qb_depth  rb_depth  fb_depth  \\\n",
            "0  2022091100    4068            0  14.990002  9.990002       0.0   \n",
            "1  2022091100    4131            0   1.129998  6.469998       0.0   \n",
            "2  2022091101    4128            0   0.949999  4.139999       0.0   \n",
            "3  2022091101    4174            0   1.040001  4.080001       0.0   \n",
            "4  2022091103    5120            0   1.069999  3.699999       0.0   \n",
            "\n",
            "   absoluteYardlineNumber  preSnapHomeTeamWinProbability  \\\n",
            "0                      70                       0.434159   \n",
            "1                      77                       0.439419   \n",
            "2                      59                       0.462624   \n",
            "3                      50                       0.465353   \n",
            "4                      75                       0.330262   \n",
            "\n",
            "   preSnapVisitorTeamWinProbability offenseFormation  ... TE_snap_motion  \\\n",
            "0                          0.565841               NA  ...              0   \n",
            "1                          0.560581               NA  ...              0   \n",
            "2                          0.537376               NA  ...              0   \n",
            "3                          0.534647               NA  ...              0   \n",
            "4                          0.669738               NA  ...              0   \n",
            "\n",
            "  RB_motion WR_motion  FB_motion  TE_motion  RB_shift  WR_shift FB_shift  \\\n",
            "0         0         0          0          0         0         0        0   \n",
            "1         0         0          0          0         0         0        0   \n",
            "2         0         0          0          0         0         0        0   \n",
            "3         0         0          0          0         0         0        0   \n",
            "4         0         0          0          0         0         0        0   \n",
            "\n",
            "  TE_shift    week  \n",
            "0        0  week_1  \n",
            "1        0  week_1  \n",
            "2        0  week_1  \n",
            "3        0  week_1  \n",
            "4        0  week_1  \n",
            "\n",
            "[5 rows x 34 columns]\n",
            "Final DataFrame shape: (15903, 34)\n"
          ]
        }
      ],
      "execution_count": 8
    },
    {
      "cell_type": "code",
      "source": [
        "# Columns to analyze\n",
        "columns_to_check = [\n",
        "    \"offenseFormation\",\n",
        "    \"receiverAlignment\",\n",
        "    \"pff_passCoverage\",\n",
        "    \"pff_manZone\",\n",
        "    \"target_rush\",\n",
        "    \"TE_snap_motion\",\n",
        "    \"RB_motion\",\n",
        "    \"WR_motion\",\n",
        "    \"FB_motion\",\n",
        "    \"TE_motion\",\n",
        "    \"RB_shift\",\n",
        "    \"WR_shift\",\n",
        "    \"FB_shift\",\n",
        "    \"TE_shift\"\n",
        "]\n",
        "\n",
        "# Display value counts for each column\n",
        "for column in columns_to_check:\n",
        "    print(f\"Value counts for {column}:\")\n",
        "    print(final_df[column].value_counts(dropna=False))  # Include NaN values in counts\n",
        "    print(\"\\n\")\n"
      ],
      "metadata": {
        "id": "6LA6lpioX5m3",
        "outputId": "6c7a5032-a0ec-4829-d3bb-975fdb0d953d",
        "colab": {
          "base_uri": "https://localhost:8080/"
        }
      },
      "execution_count": 9,
      "outputs": [
        {
          "output_type": "stream",
          "name": "stdout",
          "text": [
            "Value counts for offenseFormation:\n",
            "offenseFormation\n",
            "SHOTGUN       8695\n",
            "SINGLEBACK    3888\n",
            "EMPTY         1321\n",
            "I_FORM        1018\n",
            "PISTOL         633\n",
            "NA             187\n",
            "JUMBO          124\n",
            "WILDCAT         37\n",
            "Name: count, dtype: int64\n",
            "\n",
            "\n",
            "Value counts for receiverAlignment:\n",
            "receiverAlignment\n",
            "2x2    6411\n",
            "3x1    5975\n",
            "2x1    1787\n",
            "3x2    1206\n",
            "NA      187\n",
            "1x1     154\n",
            "4x1     121\n",
            "2x0      44\n",
            "3x0       9\n",
            "1x0       8\n",
            "3x3       1\n",
            "Name: count, dtype: int64\n",
            "\n",
            "\n",
            "Value counts for pff_passCoverage:\n",
            "pff_passCoverage\n",
            "Cover-3                 4895\n",
            "Cover-1                 3263\n",
            "Quarters                2035\n",
            "Cover-2                 1827\n",
            "Cover 6-Left             684\n",
            "Cover-6 Right            680\n",
            "Cover-3 Seam             631\n",
            "Cover-0                  588\n",
            "Red Zone                 527\n",
            "NA                       191\n",
            "2-Man                    185\n",
            "Goal Line                141\n",
            "Bracket                   75\n",
            "Cover-1 Double            53\n",
            "Prevent                   46\n",
            "Cover-3 Cloud Right       30\n",
            "Cover-3 Cloud Left        30\n",
            "Miscellaneous             13\n",
            "Cover-3 Double Cloud       9\n",
            "Name: count, dtype: int64\n",
            "\n",
            "\n",
            "Value counts for pff_manZone:\n",
            "pff_manZone\n",
            "Zone     10821\n",
            "Man       4089\n",
            "Other      802\n",
            "NA         191\n",
            "Name: count, dtype: int64\n",
            "\n",
            "\n",
            "Value counts for target_rush:\n",
            "target_rush\n",
            "0    9397\n",
            "1    6506\n",
            "Name: count, dtype: Int64\n",
            "\n",
            "\n",
            "Value counts for TE_snap_motion:\n",
            "TE_snap_motion\n",
            "0    14954\n",
            "1      949\n",
            "Name: count, dtype: Int64\n",
            "\n",
            "\n",
            "Value counts for RB_motion:\n",
            "RB_motion\n",
            "0    14524\n",
            "1     1379\n",
            "Name: count, dtype: Int64\n",
            "\n",
            "\n",
            "Value counts for WR_motion:\n",
            "WR_motion\n",
            "0    13562\n",
            "1     2341\n",
            "Name: count, dtype: Int64\n",
            "\n",
            "\n",
            "Value counts for FB_motion:\n",
            "FB_motion\n",
            "0    15685\n",
            "1      218\n",
            "Name: count, dtype: Int64\n",
            "\n",
            "\n",
            "Value counts for TE_motion:\n",
            "TE_motion\n",
            "0    14349\n",
            "1     1554\n",
            "Name: count, dtype: Int64\n",
            "\n",
            "\n",
            "Value counts for RB_shift:\n",
            "RB_shift\n",
            "0    15368\n",
            "1      535\n",
            "Name: count, dtype: Int64\n",
            "\n",
            "\n",
            "Value counts for WR_shift:\n",
            "WR_shift\n",
            "0    14739\n",
            "1     1164\n",
            "Name: count, dtype: Int64\n",
            "\n",
            "\n",
            "Value counts for FB_shift:\n",
            "FB_shift\n",
            "0    15736\n",
            "1      167\n",
            "Name: count, dtype: Int64\n",
            "\n",
            "\n",
            "Value counts for TE_shift:\n",
            "TE_shift\n",
            "0    14382\n",
            "1     1521\n",
            "Name: count, dtype: Int64\n",
            "\n",
            "\n"
          ]
        }
      ]
    },
    {
      "cell_type": "code",
      "source": [
        "from pandas_gbq import to_gbq\n",
        "\n",
        "# Define output table name\n",
        "output_table = f\"{dataset_id}.final_aggregated_data\"\n",
        "\n",
        "# Save final_df to BigQuery\n",
        "to_gbq(final_df, output_table, project_id=project_id, if_exists=\"replace\")\n",
        "\n",
        "print(f\"Final DataFrame saved to BigQuery table {output_table}\")\n"
      ],
      "metadata": {
        "trusted": true,
        "execution": {
          "iopub.status.busy": "2024-12-06T22:08:54.858238Z",
          "iopub.execute_input": "2024-12-06T22:08:54.858598Z",
          "iopub.status.idle": "2024-12-06T22:08:55.231292Z",
          "shell.execute_reply.started": "2024-12-06T22:08:54.858565Z",
          "shell.execute_reply": "2024-12-06T22:08:55.229906Z"
        },
        "id": "8bqUBmVRVyEU",
        "outputId": "b07cacc6-a2c6-41a3-87b1-279c51139b72",
        "colab": {
          "base_uri": "https://localhost:8080/"
        }
      },
      "outputs": [
        {
          "output_type": "stream",
          "name": "stderr",
          "text": [
            "100%|██████████| 1/1 [00:00<00:00, 801.82it/s]"
          ]
        },
        {
          "output_type": "stream",
          "name": "stdout",
          "text": [
            "Final DataFrame saved to BigQuery table bdb_tables.final_aggregated_data\n"
          ]
        },
        {
          "output_type": "stream",
          "name": "stderr",
          "text": [
            "\n"
          ]
        }
      ],
      "execution_count": 10
    },
    {
      "cell_type": "code",
      "source": [
        "# Save final_df to a CSV file\n",
        "file_name = \"final_bdb_aggregated_data.csv\"\n",
        "final_df.to_csv(file_name, index=False)\n",
        "\n",
        "# Download the file\n",
        "from google.colab import files\n",
        "files.download(file_name)\n"
      ],
      "metadata": {
        "id": "njjIE5DOXdcy",
        "outputId": "43f123d4-1734-4407-f1b4-5b73817dde6f",
        "colab": {
          "base_uri": "https://localhost:8080/",
          "height": 17
        }
      },
      "execution_count": 11,
      "outputs": [
        {
          "output_type": "display_data",
          "data": {
            "text/plain": [
              "<IPython.core.display.Javascript object>"
            ],
            "application/javascript": [
              "\n",
              "    async function download(id, filename, size) {\n",
              "      if (!google.colab.kernel.accessAllowed) {\n",
              "        return;\n",
              "      }\n",
              "      const div = document.createElement('div');\n",
              "      const label = document.createElement('label');\n",
              "      label.textContent = `Downloading \"${filename}\": `;\n",
              "      div.appendChild(label);\n",
              "      const progress = document.createElement('progress');\n",
              "      progress.max = size;\n",
              "      div.appendChild(progress);\n",
              "      document.body.appendChild(div);\n",
              "\n",
              "      const buffers = [];\n",
              "      let downloaded = 0;\n",
              "\n",
              "      const channel = await google.colab.kernel.comms.open(id);\n",
              "      // Send a message to notify the kernel that we're ready.\n",
              "      channel.send({})\n",
              "\n",
              "      for await (const message of channel.messages) {\n",
              "        // Send a message to notify the kernel that we're ready.\n",
              "        channel.send({})\n",
              "        if (message.buffers) {\n",
              "          for (const buffer of message.buffers) {\n",
              "            buffers.push(buffer);\n",
              "            downloaded += buffer.byteLength;\n",
              "            progress.value = downloaded;\n",
              "          }\n",
              "        }\n",
              "      }\n",
              "      const blob = new Blob(buffers, {type: 'application/binary'});\n",
              "      const a = document.createElement('a');\n",
              "      a.href = window.URL.createObjectURL(blob);\n",
              "      a.download = filename;\n",
              "      div.appendChild(a);\n",
              "      a.click();\n",
              "      div.remove();\n",
              "    }\n",
              "  "
            ]
          },
          "metadata": {}
        },
        {
          "output_type": "display_data",
          "data": {
            "text/plain": [
              "<IPython.core.display.Javascript object>"
            ],
            "application/javascript": [
              "download(\"download_6cbf702e-f520-47c5-9b08-feb402740649\", \"final_bdb_aggregated_data.csv\", 2840627)"
            ]
          },
          "metadata": {}
        }
      ]
    }
  ]
}